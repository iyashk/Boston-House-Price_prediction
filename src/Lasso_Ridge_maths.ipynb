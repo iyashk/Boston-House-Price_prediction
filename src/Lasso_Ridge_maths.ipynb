{
  "nbformat": 4,
  "nbformat_minor": 0,
  "metadata": {
    "colab": {
      "provenance": [],
      "collapsed_sections": [],
      "authorship_tag": "ABX9TyN6/qJ6F5PydRRoP7w0OYF8",
      "include_colab_link": true
    },
    "kernelspec": {
      "name": "python3",
      "display_name": "Python 3"
    },
    "language_info": {
      "name": "python"
    }
  },
  "cells": [
    {
      "cell_type": "markdown",
      "metadata": {
        "id": "view-in-github",
        "colab_type": "text"
      },
      "source": [
        "<a href=\"https://colab.research.google.com/github/iyashk/Boston-House-Price_prediction/blob/main/src/Lasso_Ridge_maths.ipynb\" target=\"_parent\"><img src=\"https://colab.research.google.com/assets/colab-badge.svg\" alt=\"Open In Colab\"/></a>"
      ]
    },
    {
      "cell_type": "markdown",
      "source": [
        "LOADING DATASET"
      ],
      "metadata": {
        "id": "C7S5e7x9xzP6"
      }
    },
    {
      "cell_type": "code",
      "execution_count": 1,
      "metadata": {
        "id": "7YtOj6Xerrop"
      },
      "outputs": [],
      "source": [
        "import pandas as pd\n",
        "data1 = pd.read_csv(r'Dataset of Diabetes .csv')"
      ]
    },
    {
      "cell_type": "code",
      "source": [
        "data1.head()"
      ],
      "metadata": {
        "colab": {
          "base_uri": "https://localhost:8080/",
          "height": 206
        },
        "id": "xDLJYOMLrsjh",
        "outputId": "f7dd7791-13b0-4fcd-a411-16fd13f4651d"
      },
      "execution_count": 2,
      "outputs": [
        {
          "output_type": "execute_result",
          "data": {
            "text/plain": [
              "    ID  No_Pation Gender  AGE  Urea  Cr  HbA1c  Chol   TG  HDL  LDL  VLDL  \\\n",
              "0  502      17975      F   50   4.7  46    4.9   4.2  0.9  2.4  1.4   0.5   \n",
              "1  735      34221      M   26   4.5  62    4.9   3.7  1.4  1.1  2.1   0.6   \n",
              "2  420      47975      F   50   4.7  46    4.9   4.2  0.9  2.4  1.4   0.5   \n",
              "3  680      87656      F   50   4.7  46    4.9   4.2  0.9  2.4  1.4   0.5   \n",
              "4  504      34223      M   33   7.1  46    4.9   4.9  1.0  0.8  2.0   0.4   \n",
              "\n",
              "    BMI CLASS  \n",
              "0  24.0     N  \n",
              "1  23.0     N  \n",
              "2  24.0     N  \n",
              "3  24.0     N  \n",
              "4  21.0     N  "
            ],
            "text/html": [
              "\n",
              "  <div id=\"df-541a1715-4e88-4e77-92b2-2e1256802384\">\n",
              "    <div class=\"colab-df-container\">\n",
              "      <div>\n",
              "<style scoped>\n",
              "    .dataframe tbody tr th:only-of-type {\n",
              "        vertical-align: middle;\n",
              "    }\n",
              "\n",
              "    .dataframe tbody tr th {\n",
              "        vertical-align: top;\n",
              "    }\n",
              "\n",
              "    .dataframe thead th {\n",
              "        text-align: right;\n",
              "    }\n",
              "</style>\n",
              "<table border=\"1\" class=\"dataframe\">\n",
              "  <thead>\n",
              "    <tr style=\"text-align: right;\">\n",
              "      <th></th>\n",
              "      <th>ID</th>\n",
              "      <th>No_Pation</th>\n",
              "      <th>Gender</th>\n",
              "      <th>AGE</th>\n",
              "      <th>Urea</th>\n",
              "      <th>Cr</th>\n",
              "      <th>HbA1c</th>\n",
              "      <th>Chol</th>\n",
              "      <th>TG</th>\n",
              "      <th>HDL</th>\n",
              "      <th>LDL</th>\n",
              "      <th>VLDL</th>\n",
              "      <th>BMI</th>\n",
              "      <th>CLASS</th>\n",
              "    </tr>\n",
              "  </thead>\n",
              "  <tbody>\n",
              "    <tr>\n",
              "      <th>0</th>\n",
              "      <td>502</td>\n",
              "      <td>17975</td>\n",
              "      <td>F</td>\n",
              "      <td>50</td>\n",
              "      <td>4.7</td>\n",
              "      <td>46</td>\n",
              "      <td>4.9</td>\n",
              "      <td>4.2</td>\n",
              "      <td>0.9</td>\n",
              "      <td>2.4</td>\n",
              "      <td>1.4</td>\n",
              "      <td>0.5</td>\n",
              "      <td>24.0</td>\n",
              "      <td>N</td>\n",
              "    </tr>\n",
              "    <tr>\n",
              "      <th>1</th>\n",
              "      <td>735</td>\n",
              "      <td>34221</td>\n",
              "      <td>M</td>\n",
              "      <td>26</td>\n",
              "      <td>4.5</td>\n",
              "      <td>62</td>\n",
              "      <td>4.9</td>\n",
              "      <td>3.7</td>\n",
              "      <td>1.4</td>\n",
              "      <td>1.1</td>\n",
              "      <td>2.1</td>\n",
              "      <td>0.6</td>\n",
              "      <td>23.0</td>\n",
              "      <td>N</td>\n",
              "    </tr>\n",
              "    <tr>\n",
              "      <th>2</th>\n",
              "      <td>420</td>\n",
              "      <td>47975</td>\n",
              "      <td>F</td>\n",
              "      <td>50</td>\n",
              "      <td>4.7</td>\n",
              "      <td>46</td>\n",
              "      <td>4.9</td>\n",
              "      <td>4.2</td>\n",
              "      <td>0.9</td>\n",
              "      <td>2.4</td>\n",
              "      <td>1.4</td>\n",
              "      <td>0.5</td>\n",
              "      <td>24.0</td>\n",
              "      <td>N</td>\n",
              "    </tr>\n",
              "    <tr>\n",
              "      <th>3</th>\n",
              "      <td>680</td>\n",
              "      <td>87656</td>\n",
              "      <td>F</td>\n",
              "      <td>50</td>\n",
              "      <td>4.7</td>\n",
              "      <td>46</td>\n",
              "      <td>4.9</td>\n",
              "      <td>4.2</td>\n",
              "      <td>0.9</td>\n",
              "      <td>2.4</td>\n",
              "      <td>1.4</td>\n",
              "      <td>0.5</td>\n",
              "      <td>24.0</td>\n",
              "      <td>N</td>\n",
              "    </tr>\n",
              "    <tr>\n",
              "      <th>4</th>\n",
              "      <td>504</td>\n",
              "      <td>34223</td>\n",
              "      <td>M</td>\n",
              "      <td>33</td>\n",
              "      <td>7.1</td>\n",
              "      <td>46</td>\n",
              "      <td>4.9</td>\n",
              "      <td>4.9</td>\n",
              "      <td>1.0</td>\n",
              "      <td>0.8</td>\n",
              "      <td>2.0</td>\n",
              "      <td>0.4</td>\n",
              "      <td>21.0</td>\n",
              "      <td>N</td>\n",
              "    </tr>\n",
              "  </tbody>\n",
              "</table>\n",
              "</div>\n",
              "      <button class=\"colab-df-convert\" onclick=\"convertToInteractive('df-541a1715-4e88-4e77-92b2-2e1256802384')\"\n",
              "              title=\"Convert this dataframe to an interactive table.\"\n",
              "              style=\"display:none;\">\n",
              "        \n",
              "  <svg xmlns=\"http://www.w3.org/2000/svg\" height=\"24px\"viewBox=\"0 0 24 24\"\n",
              "       width=\"24px\">\n",
              "    <path d=\"M0 0h24v24H0V0z\" fill=\"none\"/>\n",
              "    <path d=\"M18.56 5.44l.94 2.06.94-2.06 2.06-.94-2.06-.94-.94-2.06-.94 2.06-2.06.94zm-11 1L8.5 8.5l.94-2.06 2.06-.94-2.06-.94L8.5 2.5l-.94 2.06-2.06.94zm10 10l.94 2.06.94-2.06 2.06-.94-2.06-.94-.94-2.06-.94 2.06-2.06.94z\"/><path d=\"M17.41 7.96l-1.37-1.37c-.4-.4-.92-.59-1.43-.59-.52 0-1.04.2-1.43.59L10.3 9.45l-7.72 7.72c-.78.78-.78 2.05 0 2.83L4 21.41c.39.39.9.59 1.41.59.51 0 1.02-.2 1.41-.59l7.78-7.78 2.81-2.81c.8-.78.8-2.07 0-2.86zM5.41 20L4 18.59l7.72-7.72 1.47 1.35L5.41 20z\"/>\n",
              "  </svg>\n",
              "      </button>\n",
              "      \n",
              "  <style>\n",
              "    .colab-df-container {\n",
              "      display:flex;\n",
              "      flex-wrap:wrap;\n",
              "      gap: 12px;\n",
              "    }\n",
              "\n",
              "    .colab-df-convert {\n",
              "      background-color: #E8F0FE;\n",
              "      border: none;\n",
              "      border-radius: 50%;\n",
              "      cursor: pointer;\n",
              "      display: none;\n",
              "      fill: #1967D2;\n",
              "      height: 32px;\n",
              "      padding: 0 0 0 0;\n",
              "      width: 32px;\n",
              "    }\n",
              "\n",
              "    .colab-df-convert:hover {\n",
              "      background-color: #E2EBFA;\n",
              "      box-shadow: 0px 1px 2px rgba(60, 64, 67, 0.3), 0px 1px 3px 1px rgba(60, 64, 67, 0.15);\n",
              "      fill: #174EA6;\n",
              "    }\n",
              "\n",
              "    [theme=dark] .colab-df-convert {\n",
              "      background-color: #3B4455;\n",
              "      fill: #D2E3FC;\n",
              "    }\n",
              "\n",
              "    [theme=dark] .colab-df-convert:hover {\n",
              "      background-color: #434B5C;\n",
              "      box-shadow: 0px 1px 3px 1px rgba(0, 0, 0, 0.15);\n",
              "      filter: drop-shadow(0px 1px 2px rgba(0, 0, 0, 0.3));\n",
              "      fill: #FFFFFF;\n",
              "    }\n",
              "  </style>\n",
              "\n",
              "      <script>\n",
              "        const buttonEl =\n",
              "          document.querySelector('#df-541a1715-4e88-4e77-92b2-2e1256802384 button.colab-df-convert');\n",
              "        buttonEl.style.display =\n",
              "          google.colab.kernel.accessAllowed ? 'block' : 'none';\n",
              "\n",
              "        async function convertToInteractive(key) {\n",
              "          const element = document.querySelector('#df-541a1715-4e88-4e77-92b2-2e1256802384');\n",
              "          const dataTable =\n",
              "            await google.colab.kernel.invokeFunction('convertToInteractive',\n",
              "                                                     [key], {});\n",
              "          if (!dataTable) return;\n",
              "\n",
              "          const docLinkHtml = 'Like what you see? Visit the ' +\n",
              "            '<a target=\"_blank\" href=https://colab.research.google.com/notebooks/data_table.ipynb>data table notebook</a>'\n",
              "            + ' to learn more about interactive tables.';\n",
              "          element.innerHTML = '';\n",
              "          dataTable['output_type'] = 'display_data';\n",
              "          await google.colab.output.renderOutput(dataTable, element);\n",
              "          const docLink = document.createElement('div');\n",
              "          docLink.innerHTML = docLinkHtml;\n",
              "          element.appendChild(docLink);\n",
              "        }\n",
              "      </script>\n",
              "    </div>\n",
              "  </div>\n",
              "  "
            ]
          },
          "metadata": {},
          "execution_count": 2
        }
      ]
    },
    {
      "cell_type": "markdown",
      "source": [
        "DATASET MANIPULATION"
      ],
      "metadata": {
        "id": "B3E7np7Hx9q2"
      }
    },
    {
      "cell_type": "code",
      "source": [
        "final_Dataset = data1.copy()\n",
        "final_Dataset['Sugar_Level'] = data1['HbA1c']\n",
        "final_Dataset.drop(['ID'],axis=1,inplace=True)\n",
        "final_Dataset.drop(['No_Pation'],axis=1,inplace=True)\n",
        "final_Dataset.drop(['CLASS'],axis=1,inplace=True)\n",
        "final_Dataset=pd.get_dummies(final_Dataset,drop_first=True)\n",
        "final_Dataset.drop(['Gender_f'],axis=1,inplace=True)\n",
        "final_Dataset['CLASS'] =data1['CLASS']\n",
        "final_Dataset.drop(['HbA1c'],axis=1,inplace=True)"
      ],
      "metadata": {
        "id": "8gOFV_D2ruVr"
      },
      "execution_count": 3,
      "outputs": []
    },
    {
      "cell_type": "code",
      "source": [
        "final_Dataset.head()"
      ],
      "metadata": {
        "colab": {
          "base_uri": "https://localhost:8080/",
          "height": 206
        },
        "id": "JQuU5_NOrzrD",
        "outputId": "a6627ebf-4db1-43cf-8f99-d49c69d76e0a"
      },
      "execution_count": 4,
      "outputs": [
        {
          "output_type": "execute_result",
          "data": {
            "text/plain": [
              "   AGE  Urea  Cr  Chol   TG  HDL  LDL  VLDL   BMI  Sugar_Level  Gender_M CLASS\n",
              "0   50   4.7  46   4.2  0.9  2.4  1.4   0.5  24.0          4.9         0     N\n",
              "1   26   4.5  62   3.7  1.4  1.1  2.1   0.6  23.0          4.9         1     N\n",
              "2   50   4.7  46   4.2  0.9  2.4  1.4   0.5  24.0          4.9         0     N\n",
              "3   50   4.7  46   4.2  0.9  2.4  1.4   0.5  24.0          4.9         0     N\n",
              "4   33   7.1  46   4.9  1.0  0.8  2.0   0.4  21.0          4.9         1     N"
            ],
            "text/html": [
              "\n",
              "  <div id=\"df-2cb574d9-3fad-48a5-9eda-4c0760cfc4af\">\n",
              "    <div class=\"colab-df-container\">\n",
              "      <div>\n",
              "<style scoped>\n",
              "    .dataframe tbody tr th:only-of-type {\n",
              "        vertical-align: middle;\n",
              "    }\n",
              "\n",
              "    .dataframe tbody tr th {\n",
              "        vertical-align: top;\n",
              "    }\n",
              "\n",
              "    .dataframe thead th {\n",
              "        text-align: right;\n",
              "    }\n",
              "</style>\n",
              "<table border=\"1\" class=\"dataframe\">\n",
              "  <thead>\n",
              "    <tr style=\"text-align: right;\">\n",
              "      <th></th>\n",
              "      <th>AGE</th>\n",
              "      <th>Urea</th>\n",
              "      <th>Cr</th>\n",
              "      <th>Chol</th>\n",
              "      <th>TG</th>\n",
              "      <th>HDL</th>\n",
              "      <th>LDL</th>\n",
              "      <th>VLDL</th>\n",
              "      <th>BMI</th>\n",
              "      <th>Sugar_Level</th>\n",
              "      <th>Gender_M</th>\n",
              "      <th>CLASS</th>\n",
              "    </tr>\n",
              "  </thead>\n",
              "  <tbody>\n",
              "    <tr>\n",
              "      <th>0</th>\n",
              "      <td>50</td>\n",
              "      <td>4.7</td>\n",
              "      <td>46</td>\n",
              "      <td>4.2</td>\n",
              "      <td>0.9</td>\n",
              "      <td>2.4</td>\n",
              "      <td>1.4</td>\n",
              "      <td>0.5</td>\n",
              "      <td>24.0</td>\n",
              "      <td>4.9</td>\n",
              "      <td>0</td>\n",
              "      <td>N</td>\n",
              "    </tr>\n",
              "    <tr>\n",
              "      <th>1</th>\n",
              "      <td>26</td>\n",
              "      <td>4.5</td>\n",
              "      <td>62</td>\n",
              "      <td>3.7</td>\n",
              "      <td>1.4</td>\n",
              "      <td>1.1</td>\n",
              "      <td>2.1</td>\n",
              "      <td>0.6</td>\n",
              "      <td>23.0</td>\n",
              "      <td>4.9</td>\n",
              "      <td>1</td>\n",
              "      <td>N</td>\n",
              "    </tr>\n",
              "    <tr>\n",
              "      <th>2</th>\n",
              "      <td>50</td>\n",
              "      <td>4.7</td>\n",
              "      <td>46</td>\n",
              "      <td>4.2</td>\n",
              "      <td>0.9</td>\n",
              "      <td>2.4</td>\n",
              "      <td>1.4</td>\n",
              "      <td>0.5</td>\n",
              "      <td>24.0</td>\n",
              "      <td>4.9</td>\n",
              "      <td>0</td>\n",
              "      <td>N</td>\n",
              "    </tr>\n",
              "    <tr>\n",
              "      <th>3</th>\n",
              "      <td>50</td>\n",
              "      <td>4.7</td>\n",
              "      <td>46</td>\n",
              "      <td>4.2</td>\n",
              "      <td>0.9</td>\n",
              "      <td>2.4</td>\n",
              "      <td>1.4</td>\n",
              "      <td>0.5</td>\n",
              "      <td>24.0</td>\n",
              "      <td>4.9</td>\n",
              "      <td>0</td>\n",
              "      <td>N</td>\n",
              "    </tr>\n",
              "    <tr>\n",
              "      <th>4</th>\n",
              "      <td>33</td>\n",
              "      <td>7.1</td>\n",
              "      <td>46</td>\n",
              "      <td>4.9</td>\n",
              "      <td>1.0</td>\n",
              "      <td>0.8</td>\n",
              "      <td>2.0</td>\n",
              "      <td>0.4</td>\n",
              "      <td>21.0</td>\n",
              "      <td>4.9</td>\n",
              "      <td>1</td>\n",
              "      <td>N</td>\n",
              "    </tr>\n",
              "  </tbody>\n",
              "</table>\n",
              "</div>\n",
              "      <button class=\"colab-df-convert\" onclick=\"convertToInteractive('df-2cb574d9-3fad-48a5-9eda-4c0760cfc4af')\"\n",
              "              title=\"Convert this dataframe to an interactive table.\"\n",
              "              style=\"display:none;\">\n",
              "        \n",
              "  <svg xmlns=\"http://www.w3.org/2000/svg\" height=\"24px\"viewBox=\"0 0 24 24\"\n",
              "       width=\"24px\">\n",
              "    <path d=\"M0 0h24v24H0V0z\" fill=\"none\"/>\n",
              "    <path d=\"M18.56 5.44l.94 2.06.94-2.06 2.06-.94-2.06-.94-.94-2.06-.94 2.06-2.06.94zm-11 1L8.5 8.5l.94-2.06 2.06-.94-2.06-.94L8.5 2.5l-.94 2.06-2.06.94zm10 10l.94 2.06.94-2.06 2.06-.94-2.06-.94-.94-2.06-.94 2.06-2.06.94z\"/><path d=\"M17.41 7.96l-1.37-1.37c-.4-.4-.92-.59-1.43-.59-.52 0-1.04.2-1.43.59L10.3 9.45l-7.72 7.72c-.78.78-.78 2.05 0 2.83L4 21.41c.39.39.9.59 1.41.59.51 0 1.02-.2 1.41-.59l7.78-7.78 2.81-2.81c.8-.78.8-2.07 0-2.86zM5.41 20L4 18.59l7.72-7.72 1.47 1.35L5.41 20z\"/>\n",
              "  </svg>\n",
              "      </button>\n",
              "      \n",
              "  <style>\n",
              "    .colab-df-container {\n",
              "      display:flex;\n",
              "      flex-wrap:wrap;\n",
              "      gap: 12px;\n",
              "    }\n",
              "\n",
              "    .colab-df-convert {\n",
              "      background-color: #E8F0FE;\n",
              "      border: none;\n",
              "      border-radius: 50%;\n",
              "      cursor: pointer;\n",
              "      display: none;\n",
              "      fill: #1967D2;\n",
              "      height: 32px;\n",
              "      padding: 0 0 0 0;\n",
              "      width: 32px;\n",
              "    }\n",
              "\n",
              "    .colab-df-convert:hover {\n",
              "      background-color: #E2EBFA;\n",
              "      box-shadow: 0px 1px 2px rgba(60, 64, 67, 0.3), 0px 1px 3px 1px rgba(60, 64, 67, 0.15);\n",
              "      fill: #174EA6;\n",
              "    }\n",
              "\n",
              "    [theme=dark] .colab-df-convert {\n",
              "      background-color: #3B4455;\n",
              "      fill: #D2E3FC;\n",
              "    }\n",
              "\n",
              "    [theme=dark] .colab-df-convert:hover {\n",
              "      background-color: #434B5C;\n",
              "      box-shadow: 0px 1px 3px 1px rgba(0, 0, 0, 0.15);\n",
              "      filter: drop-shadow(0px 1px 2px rgba(0, 0, 0, 0.3));\n",
              "      fill: #FFFFFF;\n",
              "    }\n",
              "  </style>\n",
              "\n",
              "      <script>\n",
              "        const buttonEl =\n",
              "          document.querySelector('#df-2cb574d9-3fad-48a5-9eda-4c0760cfc4af button.colab-df-convert');\n",
              "        buttonEl.style.display =\n",
              "          google.colab.kernel.accessAllowed ? 'block' : 'none';\n",
              "\n",
              "        async function convertToInteractive(key) {\n",
              "          const element = document.querySelector('#df-2cb574d9-3fad-48a5-9eda-4c0760cfc4af');\n",
              "          const dataTable =\n",
              "            await google.colab.kernel.invokeFunction('convertToInteractive',\n",
              "                                                     [key], {});\n",
              "          if (!dataTable) return;\n",
              "\n",
              "          const docLinkHtml = 'Like what you see? Visit the ' +\n",
              "            '<a target=\"_blank\" href=https://colab.research.google.com/notebooks/data_table.ipynb>data table notebook</a>'\n",
              "            + ' to learn more about interactive tables.';\n",
              "          element.innerHTML = '';\n",
              "          dataTable['output_type'] = 'display_data';\n",
              "          await google.colab.output.renderOutput(dataTable, element);\n",
              "          const docLink = document.createElement('div');\n",
              "          docLink.innerHTML = docLinkHtml;\n",
              "          element.appendChild(docLink);\n",
              "        }\n",
              "      </script>\n",
              "    </div>\n",
              "  </div>\n",
              "  "
            ]
          },
          "metadata": {},
          "execution_count": 4
        }
      ]
    },
    {
      "cell_type": "code",
      "source": [
        "final_Dataset.columns"
      ],
      "metadata": {
        "colab": {
          "base_uri": "https://localhost:8080/"
        },
        "id": "JC_RJQo2r2-j",
        "outputId": "977933c1-f66e-4ea6-ef65-96ae64469d1f"
      },
      "execution_count": 5,
      "outputs": [
        {
          "output_type": "execute_result",
          "data": {
            "text/plain": [
              "Index(['AGE', 'Urea', 'Cr', 'Chol', 'TG', 'HDL', 'LDL', 'VLDL', 'BMI',\n",
              "       'Sugar_Level', 'Gender_M', 'CLASS'],\n",
              "      dtype='object')"
            ]
          },
          "metadata": {},
          "execution_count": 5
        }
      ]
    },
    {
      "cell_type": "markdown",
      "source": [
        "factors that may contribute to \"Sugar_Level\""
      ],
      "metadata": {
        "id": "66jMKOWx5aqE"
      }
    },
    {
      "cell_type": "code",
      "source": [
        "factors = [\n",
        " 'AGE',\n",
        " 'Urea',\n",
        " 'Cr',\n",
        " 'Chol',\n",
        " 'TG',\n",
        " 'HDL',\n",
        " 'LDL',\n",
        " 'VLDL',\n",
        " 'BMI'\n",
        " ]"
      ],
      "metadata": {
        "id": "VkluOL9ar4is"
      },
      "execution_count": 6,
      "outputs": []
    },
    {
      "cell_type": "markdown",
      "source": [
        "CORRELATION FOR FINAL DATASET"
      ],
      "metadata": {
        "id": "ndHww-WXyNv5"
      }
    },
    {
      "cell_type": "code",
      "source": [
        "final_Dataset.corr(method ='pearson')"
      ],
      "metadata": {
        "colab": {
          "base_uri": "https://localhost:8080/",
          "height": 438
        },
        "id": "Z_1Pelg8r6q-",
        "outputId": "ff8c8033-538f-40c1-93be-97c16b42cf71"
      },
      "execution_count": 7,
      "outputs": [
        {
          "output_type": "execute_result",
          "data": {
            "text/plain": [
              "                  AGE      Urea        Cr      Chol        TG       HDL  \\\n",
              "AGE          1.000000  0.105092  0.054941  0.036649  0.148204 -0.020038   \n",
              "Urea         0.105092  1.000000  0.624134  0.001852  0.040980 -0.036994   \n",
              "Cr           0.054941  0.624134  1.000000 -0.007097  0.056579 -0.023804   \n",
              "Chol         0.036649  0.001852 -0.007097  1.000000  0.321789  0.103814   \n",
              "TG           0.148204  0.040980  0.056579  0.321789  1.000000 -0.083001   \n",
              "HDL         -0.020038 -0.036994 -0.023804  0.103814 -0.083001  1.000000   \n",
              "LDL          0.016105 -0.007301  0.039479  0.416665  0.015378 -0.142079   \n",
              "VLDL        -0.087903 -0.011191  0.009615  0.076294  0.144570 -0.059275   \n",
              "BMI          0.375956  0.045618  0.054746  0.013678  0.110757  0.072409   \n",
              "Sugar_Level  0.379136 -0.023603 -0.037412  0.177489  0.218556  0.028933   \n",
              "Gender_M     0.021486  0.116311  0.154870 -0.064763  0.052111 -0.130130   \n",
              "\n",
              "                  LDL      VLDL       BMI  Sugar_Level  Gender_M  \n",
              "AGE          0.016105 -0.087903  0.375956     0.379136  0.021486  \n",
              "Urea        -0.007301 -0.011191  0.045618    -0.023603  0.116311  \n",
              "Cr           0.039479  0.009615  0.054746    -0.037412  0.154870  \n",
              "Chol         0.416665  0.076294  0.013678     0.177489 -0.064763  \n",
              "TG           0.015378  0.144570  0.110757     0.218556  0.052111  \n",
              "HDL         -0.142079 -0.059275  0.072409     0.028933 -0.130130  \n",
              "LDL          1.000000  0.062795 -0.067322     0.011057  0.054563  \n",
              "VLDL         0.062795  1.000000  0.198133     0.073462  0.194120  \n",
              "BMI         -0.067322  0.198133  1.000000     0.413350  0.072097  \n",
              "Sugar_Level  0.011057  0.073462  0.413350     1.000000 -0.009362  \n",
              "Gender_M     0.054563  0.194120  0.072097    -0.009362  1.000000  "
            ],
            "text/html": [
              "\n",
              "  <div id=\"df-caddb8ed-a985-402f-b767-f7842224cce2\">\n",
              "    <div class=\"colab-df-container\">\n",
              "      <div>\n",
              "<style scoped>\n",
              "    .dataframe tbody tr th:only-of-type {\n",
              "        vertical-align: middle;\n",
              "    }\n",
              "\n",
              "    .dataframe tbody tr th {\n",
              "        vertical-align: top;\n",
              "    }\n",
              "\n",
              "    .dataframe thead th {\n",
              "        text-align: right;\n",
              "    }\n",
              "</style>\n",
              "<table border=\"1\" class=\"dataframe\">\n",
              "  <thead>\n",
              "    <tr style=\"text-align: right;\">\n",
              "      <th></th>\n",
              "      <th>AGE</th>\n",
              "      <th>Urea</th>\n",
              "      <th>Cr</th>\n",
              "      <th>Chol</th>\n",
              "      <th>TG</th>\n",
              "      <th>HDL</th>\n",
              "      <th>LDL</th>\n",
              "      <th>VLDL</th>\n",
              "      <th>BMI</th>\n",
              "      <th>Sugar_Level</th>\n",
              "      <th>Gender_M</th>\n",
              "    </tr>\n",
              "  </thead>\n",
              "  <tbody>\n",
              "    <tr>\n",
              "      <th>AGE</th>\n",
              "      <td>1.000000</td>\n",
              "      <td>0.105092</td>\n",
              "      <td>0.054941</td>\n",
              "      <td>0.036649</td>\n",
              "      <td>0.148204</td>\n",
              "      <td>-0.020038</td>\n",
              "      <td>0.016105</td>\n",
              "      <td>-0.087903</td>\n",
              "      <td>0.375956</td>\n",
              "      <td>0.379136</td>\n",
              "      <td>0.021486</td>\n",
              "    </tr>\n",
              "    <tr>\n",
              "      <th>Urea</th>\n",
              "      <td>0.105092</td>\n",
              "      <td>1.000000</td>\n",
              "      <td>0.624134</td>\n",
              "      <td>0.001852</td>\n",
              "      <td>0.040980</td>\n",
              "      <td>-0.036994</td>\n",
              "      <td>-0.007301</td>\n",
              "      <td>-0.011191</td>\n",
              "      <td>0.045618</td>\n",
              "      <td>-0.023603</td>\n",
              "      <td>0.116311</td>\n",
              "    </tr>\n",
              "    <tr>\n",
              "      <th>Cr</th>\n",
              "      <td>0.054941</td>\n",
              "      <td>0.624134</td>\n",
              "      <td>1.000000</td>\n",
              "      <td>-0.007097</td>\n",
              "      <td>0.056579</td>\n",
              "      <td>-0.023804</td>\n",
              "      <td>0.039479</td>\n",
              "      <td>0.009615</td>\n",
              "      <td>0.054746</td>\n",
              "      <td>-0.037412</td>\n",
              "      <td>0.154870</td>\n",
              "    </tr>\n",
              "    <tr>\n",
              "      <th>Chol</th>\n",
              "      <td>0.036649</td>\n",
              "      <td>0.001852</td>\n",
              "      <td>-0.007097</td>\n",
              "      <td>1.000000</td>\n",
              "      <td>0.321789</td>\n",
              "      <td>0.103814</td>\n",
              "      <td>0.416665</td>\n",
              "      <td>0.076294</td>\n",
              "      <td>0.013678</td>\n",
              "      <td>0.177489</td>\n",
              "      <td>-0.064763</td>\n",
              "    </tr>\n",
              "    <tr>\n",
              "      <th>TG</th>\n",
              "      <td>0.148204</td>\n",
              "      <td>0.040980</td>\n",
              "      <td>0.056579</td>\n",
              "      <td>0.321789</td>\n",
              "      <td>1.000000</td>\n",
              "      <td>-0.083001</td>\n",
              "      <td>0.015378</td>\n",
              "      <td>0.144570</td>\n",
              "      <td>0.110757</td>\n",
              "      <td>0.218556</td>\n",
              "      <td>0.052111</td>\n",
              "    </tr>\n",
              "    <tr>\n",
              "      <th>HDL</th>\n",
              "      <td>-0.020038</td>\n",
              "      <td>-0.036994</td>\n",
              "      <td>-0.023804</td>\n",
              "      <td>0.103814</td>\n",
              "      <td>-0.083001</td>\n",
              "      <td>1.000000</td>\n",
              "      <td>-0.142079</td>\n",
              "      <td>-0.059275</td>\n",
              "      <td>0.072409</td>\n",
              "      <td>0.028933</td>\n",
              "      <td>-0.130130</td>\n",
              "    </tr>\n",
              "    <tr>\n",
              "      <th>LDL</th>\n",
              "      <td>0.016105</td>\n",
              "      <td>-0.007301</td>\n",
              "      <td>0.039479</td>\n",
              "      <td>0.416665</td>\n",
              "      <td>0.015378</td>\n",
              "      <td>-0.142079</td>\n",
              "      <td>1.000000</td>\n",
              "      <td>0.062795</td>\n",
              "      <td>-0.067322</td>\n",
              "      <td>0.011057</td>\n",
              "      <td>0.054563</td>\n",
              "    </tr>\n",
              "    <tr>\n",
              "      <th>VLDL</th>\n",
              "      <td>-0.087903</td>\n",
              "      <td>-0.011191</td>\n",
              "      <td>0.009615</td>\n",
              "      <td>0.076294</td>\n",
              "      <td>0.144570</td>\n",
              "      <td>-0.059275</td>\n",
              "      <td>0.062795</td>\n",
              "      <td>1.000000</td>\n",
              "      <td>0.198133</td>\n",
              "      <td>0.073462</td>\n",
              "      <td>0.194120</td>\n",
              "    </tr>\n",
              "    <tr>\n",
              "      <th>BMI</th>\n",
              "      <td>0.375956</td>\n",
              "      <td>0.045618</td>\n",
              "      <td>0.054746</td>\n",
              "      <td>0.013678</td>\n",
              "      <td>0.110757</td>\n",
              "      <td>0.072409</td>\n",
              "      <td>-0.067322</td>\n",
              "      <td>0.198133</td>\n",
              "      <td>1.000000</td>\n",
              "      <td>0.413350</td>\n",
              "      <td>0.072097</td>\n",
              "    </tr>\n",
              "    <tr>\n",
              "      <th>Sugar_Level</th>\n",
              "      <td>0.379136</td>\n",
              "      <td>-0.023603</td>\n",
              "      <td>-0.037412</td>\n",
              "      <td>0.177489</td>\n",
              "      <td>0.218556</td>\n",
              "      <td>0.028933</td>\n",
              "      <td>0.011057</td>\n",
              "      <td>0.073462</td>\n",
              "      <td>0.413350</td>\n",
              "      <td>1.000000</td>\n",
              "      <td>-0.009362</td>\n",
              "    </tr>\n",
              "    <tr>\n",
              "      <th>Gender_M</th>\n",
              "      <td>0.021486</td>\n",
              "      <td>0.116311</td>\n",
              "      <td>0.154870</td>\n",
              "      <td>-0.064763</td>\n",
              "      <td>0.052111</td>\n",
              "      <td>-0.130130</td>\n",
              "      <td>0.054563</td>\n",
              "      <td>0.194120</td>\n",
              "      <td>0.072097</td>\n",
              "      <td>-0.009362</td>\n",
              "      <td>1.000000</td>\n",
              "    </tr>\n",
              "  </tbody>\n",
              "</table>\n",
              "</div>\n",
              "      <button class=\"colab-df-convert\" onclick=\"convertToInteractive('df-caddb8ed-a985-402f-b767-f7842224cce2')\"\n",
              "              title=\"Convert this dataframe to an interactive table.\"\n",
              "              style=\"display:none;\">\n",
              "        \n",
              "  <svg xmlns=\"http://www.w3.org/2000/svg\" height=\"24px\"viewBox=\"0 0 24 24\"\n",
              "       width=\"24px\">\n",
              "    <path d=\"M0 0h24v24H0V0z\" fill=\"none\"/>\n",
              "    <path d=\"M18.56 5.44l.94 2.06.94-2.06 2.06-.94-2.06-.94-.94-2.06-.94 2.06-2.06.94zm-11 1L8.5 8.5l.94-2.06 2.06-.94-2.06-.94L8.5 2.5l-.94 2.06-2.06.94zm10 10l.94 2.06.94-2.06 2.06-.94-2.06-.94-.94-2.06-.94 2.06-2.06.94z\"/><path d=\"M17.41 7.96l-1.37-1.37c-.4-.4-.92-.59-1.43-.59-.52 0-1.04.2-1.43.59L10.3 9.45l-7.72 7.72c-.78.78-.78 2.05 0 2.83L4 21.41c.39.39.9.59 1.41.59.51 0 1.02-.2 1.41-.59l7.78-7.78 2.81-2.81c.8-.78.8-2.07 0-2.86zM5.41 20L4 18.59l7.72-7.72 1.47 1.35L5.41 20z\"/>\n",
              "  </svg>\n",
              "      </button>\n",
              "      \n",
              "  <style>\n",
              "    .colab-df-container {\n",
              "      display:flex;\n",
              "      flex-wrap:wrap;\n",
              "      gap: 12px;\n",
              "    }\n",
              "\n",
              "    .colab-df-convert {\n",
              "      background-color: #E8F0FE;\n",
              "      border: none;\n",
              "      border-radius: 50%;\n",
              "      cursor: pointer;\n",
              "      display: none;\n",
              "      fill: #1967D2;\n",
              "      height: 32px;\n",
              "      padding: 0 0 0 0;\n",
              "      width: 32px;\n",
              "    }\n",
              "\n",
              "    .colab-df-convert:hover {\n",
              "      background-color: #E2EBFA;\n",
              "      box-shadow: 0px 1px 2px rgba(60, 64, 67, 0.3), 0px 1px 3px 1px rgba(60, 64, 67, 0.15);\n",
              "      fill: #174EA6;\n",
              "    }\n",
              "\n",
              "    [theme=dark] .colab-df-convert {\n",
              "      background-color: #3B4455;\n",
              "      fill: #D2E3FC;\n",
              "    }\n",
              "\n",
              "    [theme=dark] .colab-df-convert:hover {\n",
              "      background-color: #434B5C;\n",
              "      box-shadow: 0px 1px 3px 1px rgba(0, 0, 0, 0.15);\n",
              "      filter: drop-shadow(0px 1px 2px rgba(0, 0, 0, 0.3));\n",
              "      fill: #FFFFFF;\n",
              "    }\n",
              "  </style>\n",
              "\n",
              "      <script>\n",
              "        const buttonEl =\n",
              "          document.querySelector('#df-caddb8ed-a985-402f-b767-f7842224cce2 button.colab-df-convert');\n",
              "        buttonEl.style.display =\n",
              "          google.colab.kernel.accessAllowed ? 'block' : 'none';\n",
              "\n",
              "        async function convertToInteractive(key) {\n",
              "          const element = document.querySelector('#df-caddb8ed-a985-402f-b767-f7842224cce2');\n",
              "          const dataTable =\n",
              "            await google.colab.kernel.invokeFunction('convertToInteractive',\n",
              "                                                     [key], {});\n",
              "          if (!dataTable) return;\n",
              "\n",
              "          const docLinkHtml = 'Like what you see? Visit the ' +\n",
              "            '<a target=\"_blank\" href=https://colab.research.google.com/notebooks/data_table.ipynb>data table notebook</a>'\n",
              "            + ' to learn more about interactive tables.';\n",
              "          element.innerHTML = '';\n",
              "          dataTable['output_type'] = 'display_data';\n",
              "          await google.colab.output.renderOutput(dataTable, element);\n",
              "          const docLink = document.createElement('div');\n",
              "          docLink.innerHTML = docLinkHtml;\n",
              "          element.appendChild(docLink);\n",
              "        }\n",
              "      </script>\n",
              "    </div>\n",
              "  </div>\n",
              "  "
            ]
          },
          "metadata": {},
          "execution_count": 7
        }
      ]
    },
    {
      "cell_type": "code",
      "source": [
        "final_Dataset[factors].head()"
      ],
      "metadata": {
        "colab": {
          "base_uri": "https://localhost:8080/",
          "height": 206
        },
        "id": "uOFDWLRHr8Qh",
        "outputId": "7624e08d-0976-468a-9776-5a0a26e8a912"
      },
      "execution_count": 8,
      "outputs": [
        {
          "output_type": "execute_result",
          "data": {
            "text/plain": [
              "   AGE  Urea  Cr  Chol   TG  HDL  LDL  VLDL   BMI\n",
              "0   50   4.7  46   4.2  0.9  2.4  1.4   0.5  24.0\n",
              "1   26   4.5  62   3.7  1.4  1.1  2.1   0.6  23.0\n",
              "2   50   4.7  46   4.2  0.9  2.4  1.4   0.5  24.0\n",
              "3   50   4.7  46   4.2  0.9  2.4  1.4   0.5  24.0\n",
              "4   33   7.1  46   4.9  1.0  0.8  2.0   0.4  21.0"
            ],
            "text/html": [
              "\n",
              "  <div id=\"df-0ca0c120-878f-447c-938a-a1ec43e9f3b4\">\n",
              "    <div class=\"colab-df-container\">\n",
              "      <div>\n",
              "<style scoped>\n",
              "    .dataframe tbody tr th:only-of-type {\n",
              "        vertical-align: middle;\n",
              "    }\n",
              "\n",
              "    .dataframe tbody tr th {\n",
              "        vertical-align: top;\n",
              "    }\n",
              "\n",
              "    .dataframe thead th {\n",
              "        text-align: right;\n",
              "    }\n",
              "</style>\n",
              "<table border=\"1\" class=\"dataframe\">\n",
              "  <thead>\n",
              "    <tr style=\"text-align: right;\">\n",
              "      <th></th>\n",
              "      <th>AGE</th>\n",
              "      <th>Urea</th>\n",
              "      <th>Cr</th>\n",
              "      <th>Chol</th>\n",
              "      <th>TG</th>\n",
              "      <th>HDL</th>\n",
              "      <th>LDL</th>\n",
              "      <th>VLDL</th>\n",
              "      <th>BMI</th>\n",
              "    </tr>\n",
              "  </thead>\n",
              "  <tbody>\n",
              "    <tr>\n",
              "      <th>0</th>\n",
              "      <td>50</td>\n",
              "      <td>4.7</td>\n",
              "      <td>46</td>\n",
              "      <td>4.2</td>\n",
              "      <td>0.9</td>\n",
              "      <td>2.4</td>\n",
              "      <td>1.4</td>\n",
              "      <td>0.5</td>\n",
              "      <td>24.0</td>\n",
              "    </tr>\n",
              "    <tr>\n",
              "      <th>1</th>\n",
              "      <td>26</td>\n",
              "      <td>4.5</td>\n",
              "      <td>62</td>\n",
              "      <td>3.7</td>\n",
              "      <td>1.4</td>\n",
              "      <td>1.1</td>\n",
              "      <td>2.1</td>\n",
              "      <td>0.6</td>\n",
              "      <td>23.0</td>\n",
              "    </tr>\n",
              "    <tr>\n",
              "      <th>2</th>\n",
              "      <td>50</td>\n",
              "      <td>4.7</td>\n",
              "      <td>46</td>\n",
              "      <td>4.2</td>\n",
              "      <td>0.9</td>\n",
              "      <td>2.4</td>\n",
              "      <td>1.4</td>\n",
              "      <td>0.5</td>\n",
              "      <td>24.0</td>\n",
              "    </tr>\n",
              "    <tr>\n",
              "      <th>3</th>\n",
              "      <td>50</td>\n",
              "      <td>4.7</td>\n",
              "      <td>46</td>\n",
              "      <td>4.2</td>\n",
              "      <td>0.9</td>\n",
              "      <td>2.4</td>\n",
              "      <td>1.4</td>\n",
              "      <td>0.5</td>\n",
              "      <td>24.0</td>\n",
              "    </tr>\n",
              "    <tr>\n",
              "      <th>4</th>\n",
              "      <td>33</td>\n",
              "      <td>7.1</td>\n",
              "      <td>46</td>\n",
              "      <td>4.9</td>\n",
              "      <td>1.0</td>\n",
              "      <td>0.8</td>\n",
              "      <td>2.0</td>\n",
              "      <td>0.4</td>\n",
              "      <td>21.0</td>\n",
              "    </tr>\n",
              "  </tbody>\n",
              "</table>\n",
              "</div>\n",
              "      <button class=\"colab-df-convert\" onclick=\"convertToInteractive('df-0ca0c120-878f-447c-938a-a1ec43e9f3b4')\"\n",
              "              title=\"Convert this dataframe to an interactive table.\"\n",
              "              style=\"display:none;\">\n",
              "        \n",
              "  <svg xmlns=\"http://www.w3.org/2000/svg\" height=\"24px\"viewBox=\"0 0 24 24\"\n",
              "       width=\"24px\">\n",
              "    <path d=\"M0 0h24v24H0V0z\" fill=\"none\"/>\n",
              "    <path d=\"M18.56 5.44l.94 2.06.94-2.06 2.06-.94-2.06-.94-.94-2.06-.94 2.06-2.06.94zm-11 1L8.5 8.5l.94-2.06 2.06-.94-2.06-.94L8.5 2.5l-.94 2.06-2.06.94zm10 10l.94 2.06.94-2.06 2.06-.94-2.06-.94-.94-2.06-.94 2.06-2.06.94z\"/><path d=\"M17.41 7.96l-1.37-1.37c-.4-.4-.92-.59-1.43-.59-.52 0-1.04.2-1.43.59L10.3 9.45l-7.72 7.72c-.78.78-.78 2.05 0 2.83L4 21.41c.39.39.9.59 1.41.59.51 0 1.02-.2 1.41-.59l7.78-7.78 2.81-2.81c.8-.78.8-2.07 0-2.86zM5.41 20L4 18.59l7.72-7.72 1.47 1.35L5.41 20z\"/>\n",
              "  </svg>\n",
              "      </button>\n",
              "      \n",
              "  <style>\n",
              "    .colab-df-container {\n",
              "      display:flex;\n",
              "      flex-wrap:wrap;\n",
              "      gap: 12px;\n",
              "    }\n",
              "\n",
              "    .colab-df-convert {\n",
              "      background-color: #E8F0FE;\n",
              "      border: none;\n",
              "      border-radius: 50%;\n",
              "      cursor: pointer;\n",
              "      display: none;\n",
              "      fill: #1967D2;\n",
              "      height: 32px;\n",
              "      padding: 0 0 0 0;\n",
              "      width: 32px;\n",
              "    }\n",
              "\n",
              "    .colab-df-convert:hover {\n",
              "      background-color: #E2EBFA;\n",
              "      box-shadow: 0px 1px 2px rgba(60, 64, 67, 0.3), 0px 1px 3px 1px rgba(60, 64, 67, 0.15);\n",
              "      fill: #174EA6;\n",
              "    }\n",
              "\n",
              "    [theme=dark] .colab-df-convert {\n",
              "      background-color: #3B4455;\n",
              "      fill: #D2E3FC;\n",
              "    }\n",
              "\n",
              "    [theme=dark] .colab-df-convert:hover {\n",
              "      background-color: #434B5C;\n",
              "      box-shadow: 0px 1px 3px 1px rgba(0, 0, 0, 0.15);\n",
              "      filter: drop-shadow(0px 1px 2px rgba(0, 0, 0, 0.3));\n",
              "      fill: #FFFFFF;\n",
              "    }\n",
              "  </style>\n",
              "\n",
              "      <script>\n",
              "        const buttonEl =\n",
              "          document.querySelector('#df-0ca0c120-878f-447c-938a-a1ec43e9f3b4 button.colab-df-convert');\n",
              "        buttonEl.style.display =\n",
              "          google.colab.kernel.accessAllowed ? 'block' : 'none';\n",
              "\n",
              "        async function convertToInteractive(key) {\n",
              "          const element = document.querySelector('#df-0ca0c120-878f-447c-938a-a1ec43e9f3b4');\n",
              "          const dataTable =\n",
              "            await google.colab.kernel.invokeFunction('convertToInteractive',\n",
              "                                                     [key], {});\n",
              "          if (!dataTable) return;\n",
              "\n",
              "          const docLinkHtml = 'Like what you see? Visit the ' +\n",
              "            '<a target=\"_blank\" href=https://colab.research.google.com/notebooks/data_table.ipynb>data table notebook</a>'\n",
              "            + ' to learn more about interactive tables.';\n",
              "          element.innerHTML = '';\n",
              "          dataTable['output_type'] = 'display_data';\n",
              "          await google.colab.output.renderOutput(dataTable, element);\n",
              "          const docLink = document.createElement('div');\n",
              "          docLink.innerHTML = docLinkHtml;\n",
              "          element.appendChild(docLink);\n",
              "        }\n",
              "      </script>\n",
              "    </div>\n",
              "  </div>\n",
              "  "
            ]
          },
          "metadata": {},
          "execution_count": 8
        }
      ]
    },
    {
      "cell_type": "markdown",
      "source": [
        "LASSO USING ADMM"
      ],
      "metadata": {
        "id": "KjQ4f_SqzMwL"
      }
    },
    {
      "cell_type": "code",
      "source": [
        "import numpy as np\n",
        "from numpy import linalg as la\n",
        "from scipy import sparse\n",
        "from scipy import stats\n",
        "import matplotlib.pyplot as plt\n",
        "import time\n",
        "import pandas as pd\n",
        "import math\n",
        "from sklearn.model_selection import train_test_split\n",
        "import scipy.sparse as sparse\n",
        "from scipy.sparse.linalg import spsolve\n",
        "from numpy.linalg import norm,cholesky\n",
        "from sklearn.metrics import mean_squared_error,mean_absolute_error\n",
        "import time as t\n",
        "\n",
        "class History1:\n",
        "    def __init__(self):\n",
        "        self.objval = []\n",
        "        self.r_norm = []\n",
        "        self.s_norm = []\n",
        "        self.eps_pri = []\n",
        "        self.eps_dual = []\n",
        "        self.time_iter = []\n",
        "\n",
        "    def addtime_iter(self, time_iter):\n",
        "        self.time_iter.append(time_iter)\n",
        "\n",
        "    def gettime_iter(self):\n",
        "        return self.time_iter\n",
        "\n",
        "    def settime_iter(self,time_iter):\n",
        "      self.time_iter=time_iter\n",
        "\n",
        "    def addObjval(self, objval):\n",
        "        self.objval.append(objval)\n",
        "\n",
        "    def getObjval(self):\n",
        "        return self.objval\n",
        "\n",
        "    def addR_norm(self, r_norm):\n",
        "        self.r_norm.append(r_norm)\n",
        "\n",
        "    def getR_norm(self):\n",
        "        return self.r_norm\n",
        "\n",
        "    def addS_norm(self, s_norm):\n",
        "        self.s_norm.append(s_norm)\n",
        "\n",
        "    def getS_norm(self):\n",
        "        return self.s_norm\n",
        "\n",
        "    def addEps_pri(self, eps_pri):\n",
        "        self.eps_pri.append(eps_pri)\n",
        "\n",
        "    def getEps_pri(self):\n",
        "        return self.eps_pri\n",
        "\n",
        "    def addEps_dual(self, eps_dual):\n",
        "        self.eps_dual.append(eps_dual)\n",
        "\n",
        "    def getEps_dual(self):\n",
        "        return self.eps_dual\n",
        "\n",
        "    \n",
        "\n",
        "def objective(A, b, lamda, x, z):\n",
        "    a = np.dot(A, x) - b\n",
        "    p = 1/2*((la.norm(a, 2))**2) + lamda*la.norm(z, 1)\n",
        "    return p\n",
        "\n",
        "def shrinkage(x, kappa):\n",
        "    z = np.maximum(0, (x - kappa).getA()) - np.maximum(0, (-x - kappa).getA())\n",
        "    #print(x,kappa)\n",
        "    return z\n",
        "\n",
        "\n",
        "def Standard_error1(sample):\n",
        "    std = np.std(sample,ddof=0) #standard deviation\n",
        "    standard_error = std/math.sqrt(len(sample))\n",
        "    return standard_error\n",
        "\n",
        "  \n",
        "# Solves the following problem via ADMM:\n",
        "# minimize 1/2*|| Ax - b ||_2^2 + \\lambda || x ||_1\n",
        "\n",
        "def lasso(A, b, lamda, rho, alpha):\n",
        "    QUIET = False\n",
        "    MAX_ITER = 100\n",
        "    ABSTOL = 10**(-4)\n",
        "    RELTOL = 10**(-2)\n",
        "\n",
        "    m, n = A.shape\n",
        "    # save a matrix-vector multiply\n",
        "    Atb = A.T*b\n",
        "   \n",
        "    #print(Atb.shape)\n",
        "    # ADMM solver\n",
        "    x = np.zeros([n, 1])\n",
        "    z = np.zeros([n, 1])\n",
        "    u = np.zeros([n, 1])\n",
        "\n",
        "    h = {}\n",
        "    h['objval']     = np.zeros(MAX_ITER)\n",
        "    h['r_norm']     = np.zeros(MAX_ITER)\n",
        "    h['s_norm']     = np.zeros(MAX_ITER)\n",
        "    h['eps_pri']    = np.zeros(MAX_ITER)\n",
        "    h['eps_dual']   = np.zeros(MAX_ITER)\n",
        "    h['x'] = np.zeros(MAX_ITER)\n",
        "\n",
        "    # cache the factorization\n",
        "    L, U = factor(A, rho)\n",
        "    #decomposing the (AT.A - rho*I) into L,U  \n",
        "    \n",
        "    history = History1()\n",
        "    for k in range(0, MAX_ITER):\n",
        "        # x-update\n",
        "        start_time = t.time()\n",
        "        q = Atb + rho*(z) - (u/rho)  # temporary value\n",
        "        #as x - update is xk = (AT.A - rho*I)^(-1)*(AT*b+rho*z-u/rho)\n",
        "        if m >= n:\n",
        "            x = la.solve(U.todense(), la.solve(L.todense(), q))\n",
        "        else:\n",
        "            x = q/rho - np.dot(A.T, la.solve(U.todense(), la.solve(L.todense(), np.dot(A, q))))/rho**2\n",
        "        ##print(x,z)\n",
        "        # z-update\n",
        "        zold = z\n",
        "        x_hat = x #alpha*x + (1 - alpha)*zold\n",
        "        z = shrinkage(x_hat + u/rho, lamda/rho)\n",
        "        #print(z,zold,lamda)\n",
        "        #print(z)\n",
        "        # u-update\n",
        "        u = u + rho*(x_hat - z)\n",
        "        time= t.time() - start_time\n",
        "        # diagnostics, reporting, termination checks\n",
        "        history.addObjval(objective(A, b, lamda, x, z))\n",
        "        h['objval'][k] = objective(A, b, lamda, x, z)\n",
        "        history.addR_norm(la.norm(x - z))\n",
        "        h['r_norm'][k]   = norm(x-z)\n",
        "        history.addS_norm(la.norm(-rho*(z-zold)))\n",
        "        h['s_norm'][k]   = norm(-rho*(z-zold))\n",
        "        history.addEps_pri(np.sqrt(n)*ABSTOL + RELTOL*np.maximum(la.norm(x), la.norm(-z)))\n",
        "        h['eps_pri'][k]  = np.sqrt(n)*ABSTOL+ RELTOL*np.maximum(norm(x),norm(-z))\n",
        "        history.addEps_dual(np.sqrt(n)*ABSTOL + RELTOL*la.norm(rho*u))\n",
        "        h['eps_dual'][k] = np.sqrt(n)*ABSTOL+ RELTOL*norm(rho*u)\n",
        "        history.addtime_iter(time)\n",
        "\n",
        "        if history.getR_norm()[k] < history.getEps_pri()[k] and history.getS_norm()[k]<history.getEps_dual()[k]:\n",
        "            break\n",
        "    time = list(history.gettime_iter())\n",
        "    time_iter = time.copy()\n",
        "    time_iter.sort(reverse=True)\n",
        "    history.settime_iter(time_iter)\n",
        "    \n",
        "    return x.ravel(), history ,h        \n",
        "\n",
        "def factor(A, rho):\n",
        "    m, n = A.shape\n",
        "    if m >= n:\n",
        "        L = la.cholesky(np.dot(A.T, A) + rho*sparse.eye(n))\n",
        "    else:\n",
        "        L = la.cholesky(sparse.eye(m) + 1/rho*(np.dot(A, A.T)))\n",
        "\n",
        "    L = sparse.coo_matrix(L)\n",
        "    U = sparse.coo_matrix(L.T)\n",
        "\n",
        "    return L, U\n",
        "\n",
        "factors = [\n",
        " 'BMI'\n",
        " ]\n",
        "\n",
        "A = (final_Dataset [factors])\n",
        "b = (final_Dataset['Sugar_Level'])\n",
        "X_train, X_test, y_train, y_test = train_test_split(A, b,test_size=0.2, random_state=1)\n",
        "A = np.matrix(X_train)\n",
        "b = np.matrix(y_train).T\n",
        "lambda_max = la.norm(np.dot(A.T, b), np.inf)\n",
        "\n",
        "lamda = 0.000001*lambda_max\n",
        "\n",
        "# Solve problem\n",
        "x, history ,h = lasso(A, b, lamda, 1.0, 1.0)\n",
        "y_test_predict=X_test.dot(x[0].T)\n",
        "print('%3s' % 'iter', '%10s' % 'r norm', '%10s' % 'eps pri', '%10s' % 's norm', '%10s' % 'eps dual', '%10s' % 'objective','%8s' % 'time')\n",
        "for k in range(len(history.getObjval())):\n",
        "  print('%3d' % k, '%10.4f' % history.getR_norm()[k], '%10.4f' % history.getEps_pri()[k], '%10.4f' % history.getS_norm()[k],\n",
        "                  '%10.4f' % history.getEps_dual()[k], '%10.2f' % history.getObjval()[k],'%11.6f' % history.gettime_iter()[k])\n",
        "  \n",
        "coef = []\n",
        "for i in range(len(factors)):\n",
        "    coef.append((factors[i],round(float(x.T[i][0]),4)))\n",
        "  \n",
        "# Reporting\n",
        "K = len(history.gettime_iter())\n",
        "x = np.arange(K)\n",
        "plt.plot(x, history.gettime_iter())\n",
        "plt.xlabel('iter (k)')\n",
        "plt.ylabel('time for each iteration')\n",
        "plt.show()\n",
        "\n",
        "plt.plot(x, history.getObjval())\n",
        "plt.xlabel('iter (k)')\n",
        "plt.ylabel('f(x^k) + g(z^k)')\n",
        "plt.show()\n",
        "\n",
        "plt.subplot(211)\n",
        "plt.plot(x, np.maximum(10**(-8), history.getR_norm()), '-', history.getEps_pri(), '--')\n",
        "plt.ylabel('||r||_2')\n",
        "\n",
        "plt.subplot(212)\n",
        "plt.plot(x, np.maximum(10**(-8), history.getS_norm()), '-', history.getEps_dual(), '--')\n",
        "plt.xlabel('iter (k)')\n",
        "plt.ylabel('||s||_2')\n",
        "plt.show()\n",
        "\n",
        "\n",
        "# model evaluation (MSE,MAE,std_error)\n",
        "rmse_predict = round(np.sqrt(mean_squared_error(y_test,y_test_predict)),4)\n",
        "mae_predict = round(mean_absolute_error(y_test,y_test_predict),4)\n",
        "std_error = round(float(Standard_error1(y_test_predict)),4)\n",
        "\n",
        "print ('Estimated coefficients are:'+str(coef))\n",
        "print ('Std Error is:'+str(std_error))\n",
        "print ('RMSE is:'+str(rmse_predict))\n",
        "print ('MAE is:'+str(mae_predict))"
      ],
      "metadata": {
        "colab": {
          "base_uri": "https://localhost:8080/",
          "height": 957
        },
        "id": "vpxh7I2sckyz",
        "outputId": "8ac5485b-ee4f-41f5-b680-5b9639f55c22"
      },
      "execution_count": 9,
      "outputs": [
        {
          "output_type": "stream",
          "name": "stdout",
          "text": [
            "iter     r norm    eps pri     s norm   eps dual  objective     time\n",
            "  0     0.1997     0.0029     0.0768     0.0021    2222.27    0.000345\n",
            "  1     0.0000     0.0029     0.1997     0.0021    2222.31    0.000196\n",
            "  2     0.0000     0.0029     0.0000     0.0021    2222.31    0.000137\n"
          ]
        },
        {
          "output_type": "display_data",
          "data": {
            "text/plain": [
              "<Figure size 432x288 with 1 Axes>"
            ],
            "image/png": "[encoded data removed]"
          },
          "metadata": {
            "needs_background": "light"
          }
        },
        {
          "output_type": "display_data",
          "data": {
            "text/plain": [
              "<Figure size 432x288 with 1 Axes>"
            ],
            "image/png": "[encoded data removed]"
          },
          "metadata": {
            "needs_background": "light"
          }
        },
        {
          "output_type": "display_data",
          "data": {
            "text/plain": [
              "<Figure size 432x288 with 2 Axes>"
            ],
            "image/png": "[encoded data removed]"
          },
          "metadata": {
            "needs_background": "light"
          }
        },
        {
          "output_type": "stream",
          "name": "stdout",
          "text": [
            "Estimated coefficients are:[('BMI', 0.2765)]\n",
            "Std Error is:0.0947\n",
            "RMSE is:2.2249\n",
            "MAE is:1.7889\n"
          ]
        }
      ]
    },
    {
      "cell_type": "code",
      "source": [
        "run_time = 0\n",
        "for k in range(len(history.getObjval())):\n",
        "  run_time += history.gettime_iter()[k]\n",
        "print(round(run_time,5))"
      ],
      "metadata": {
        "colab": {
          "base_uri": "https://localhost:8080/"
        },
        "id": "blyOvSUQTArb",
        "outputId": "0ca76377-704c-4f2f-c26f-054913f7a1d6"
      },
      "execution_count": 10,
      "outputs": [
        {
          "output_type": "stream",
          "name": "stdout",
          "text": [
            "0.00068\n"
          ]
        }
      ]
    },
    {
      "cell_type": "markdown",
      "source": [
        "Gradient descent LASSO"
      ],
      "metadata": {
        "id": "2RogctTnvEru"
      }
    },
    {
      "cell_type": "code",
      "source": [
        "import numpy as np\n",
        "import pandas as pd\n",
        "import time as t\n",
        "from sklearn.model_selection import train_test_split\n",
        "\n",
        "  \n",
        "# Lasso Regression\n",
        "  \n",
        "class LassoRegression() :\n",
        "      \n",
        "    def __init__( self, learning_rate, iterations, l1_penality ) :\n",
        "          \n",
        "        self.learning_rate = learning_rate\n",
        "          \n",
        "        self.iterations = iterations\n",
        "          \n",
        "        self.l1_penality = l1_penality\n",
        "\n",
        "        self.time_iter_grad = []\n",
        "\n",
        "        self.objval_grad = []\n",
        "    # Function for model training\n",
        "              \n",
        "    def fit( self, X, Y ) :\n",
        "          \n",
        "        # no_of_training_examples, no_of_features\n",
        "          \n",
        "        self.m, self.n = X.shape\n",
        "          \n",
        "        # weight initialization\n",
        "          \n",
        "        self.W = np.zeros( self.n )\n",
        "          \n",
        "        self.X = X\n",
        "          \n",
        "        self.Y = Y\n",
        "        \n",
        "        # gradient descent learning\n",
        "                  \n",
        "        for i in range( self.iterations ) :\n",
        "            pred = self.predict( self.X )\n",
        "            h1 = self.objval(Y, pred , X)\n",
        "            start_time_grad = t.time()\n",
        "            self.update_weights()\n",
        "            time_grad = round(t.time()- start_time_grad,7)\n",
        "            self.time_iter_grad.append(time_grad)\n",
        "            pred = self.predict( self.X )\n",
        "            h2 = self.objval(Y, pred , X)\n",
        "            self.objval_grad.append(h2)\n",
        "            if(abs(h2-h1)<=0.0001):\n",
        "              break\n",
        "        time_g = (self.time_iter_grad)\n",
        "        time_iterg = time_g.copy()\n",
        "        time_iterg.sort(reverse=True)\n",
        "        self.time_iter_grad = time_iterg\n",
        "        return self, self.time_iter_grad\n",
        "      \n",
        "    # Helper function to update weights in gradient descent\n",
        "      \n",
        "    def update_weights( self ) :\n",
        "             \n",
        "        Y_pred = self.predict( self.X )\n",
        "          \n",
        "        # calculate gradients  \n",
        "          \n",
        "        dW = np.zeros( self.n )\n",
        "          \n",
        "        for j in range( self.n ) :\n",
        "              \n",
        "            if self.W[j] > 0 :\n",
        "                  \n",
        "                dW[j] = ( - ( 2 * ( self.X[:, j] ).dot( self.Y - Y_pred ) ) \n",
        "                           \n",
        "                         + self.l1_penality ) / self.m\n",
        "          \n",
        "            else :\n",
        "                  \n",
        "                dW[j] = ( - ( 2 * ( self.X[:, j] ).dot( self.Y - Y_pred ) ) \n",
        "                           \n",
        "                         - self.l1_penality ) / self.m\n",
        "  \n",
        "          \n",
        "        # update weights\n",
        "      \n",
        "        self.W = self.W - self.learning_rate * dW\n",
        "          \n",
        "        return self\n",
        "      \n",
        "    # Hypothetical function  h( x ) \n",
        "      \n",
        "    def predict( self, X ) :\n",
        "        return X.dot( self.W ) \n",
        "\n",
        "    def objval(self ,Y,pred,X):\n",
        "      h = (sum( (Y - pred )**2) + self.l1_penality*la.norm(self.W, 1) )/self.m\n",
        "      return h\n",
        "\n",
        "X_train_grad = np.asarray(X_train)\n",
        "y_train_grad = np.asarray(y_train)\n",
        "X_test_grad = np.asarray(X_test)\n",
        "y_test_grad = np.asarray(y_test)\n",
        "model = LassoRegression(iterations = 100, learning_rate = 0.001, l1_penality = 100 )\n",
        "model , time_grad = model.fit(X_train_grad,y_train_grad)\n",
        "K = len(time_grad)\n",
        "x_vals = np.arange(K)\n",
        "plt.plot(x_vals, time_grad)\n",
        "plt.xlabel('iter (k)')\n",
        "plt.ylabel('time for each iteration')\n",
        "plt.show()\n",
        "\n",
        "plt.plot(x_vals, model.objval_grad)\n",
        "plt.xlabel('iter (k)')\n",
        "plt.ylabel('objective vals')\n",
        "plt.show()\n",
        "\n",
        "y_pred_grad = model.predict(X_test_grad)\n",
        "\n",
        "# model evaluation (MSE,MAE,std_error)\n",
        "rmse_predict_grad = round(np.sqrt(mean_squared_error(y_test_grad,y_pred_grad)),4)\n",
        "mae_predict_grad = round(mean_absolute_error(y_test_grad,y_pred_grad),4)\n",
        "std_error_grad = round(float(Standard_error1(y_pred_grad)),4)\n",
        "\n",
        "print ('Std Error is:'+str(std_error_grad))\n",
        "print ('RMSE is:'+str(rmse_predict_grad))\n",
        "print ('MAE is:'+str(mae_predict_grad))\n"
      ],
      "metadata": {
        "colab": {
          "base_uri": "https://localhost:8080/",
          "height": 595
        },
        "id": "pFsyOleO3TrR",
        "outputId": "35c7c0f9-0805-444f-8624-950d246364ec"
      },
      "execution_count": 11,
      "outputs": [
        {
          "output_type": "display_data",
          "data": {
            "text/plain": [
              "<Figure size 432x288 with 1 Axes>"
            ],
            "image/png": "[encoded data removed]"
          },
          "metadata": {
            "needs_background": "light"
          }
        },
        {
          "output_type": "display_data",
          "data": {
            "text/plain": [
              "<Figure size 432x288 with 1 Axes>"
            ],
            "image/png": "[encoded data removed]"
          },
          "metadata": {
            "needs_background": "light"
          }
        },
        {
          "output_type": "stream",
          "name": "stdout",
          "text": [
            "Std Error is:0.0945\n",
            "RMSE is:2.2266\n",
            "MAE is:1.7894\n"
          ]
        }
      ]
    },
    {
      "cell_type": "code",
      "source": [
        "K"
      ],
      "metadata": {
        "colab": {
          "base_uri": "https://localhost:8080/"
        },
        "id": "SF5V-yLbPdm8",
        "outputId": "ad6bca10-5fe9-479f-fbe0-995a002beb9d"
      },
      "execution_count": 12,
      "outputs": [
        {
          "output_type": "execute_result",
          "data": {
            "text/plain": [
              "30"
            ]
          },
          "metadata": {},
          "execution_count": 12
        }
      ]
    },
    {
      "cell_type": "code",
      "source": [
        "run_time_grad = 0\n",
        "for k in range(len(time_grad)):\n",
        "  run_time_grad += time_grad[k]\n",
        "print(round(run_time_grad,5))"
      ],
      "metadata": {
        "colab": {
          "base_uri": "https://localhost:8080/"
        },
        "id": "LQ6atXQgJaBX",
        "outputId": "376c88f7-9485-4024-907a-8e927e6df24d"
      },
      "execution_count": 13,
      "outputs": [
        {
          "output_type": "stream",
          "name": "stdout",
          "text": [
            "0.00141\n"
          ]
        }
      ]
    },
    {
      "cell_type": "markdown",
      "source": [
        "Sklearn LASSO"
      ],
      "metadata": {
        "id": "1o8h4CrEfpyM"
      }
    },
    {
      "cell_type": "code",
      "source": [
        "from sklearn import linear_model\n",
        "clf = linear_model.Lasso(alpha=lamda)\n",
        "sk_t= t.time() \n",
        "clf.fit(X_train,y_train)\n",
        "sk_t = t.time() - sk_t\n",
        "pred = clf.predict(X_test)\n"
      ],
      "metadata": {
        "id": "7ksLtN6Z33wX"
      },
      "execution_count": 14,
      "outputs": []
    },
    {
      "cell_type": "code",
      "source": [
        "rmse_predict = round(np.sqrt(mean_squared_error(y_test,pred)),4)\n",
        "mae_predict = round(mean_absolute_error(y_test,pred),4)\n",
        "std_error = round(float(Standard_error1(pred)),4)\n",
        "print('Total Time:',round(sk_t,5))\n",
        "print ('Std Error is:'+str(std_error))\n",
        "print ('RMSE is:'+str(rmse_predict))\n",
        "print ('MAE is:'+str(mae_predict))"
      ],
      "metadata": {
        "colab": {
          "base_uri": "https://localhost:8080/"
        },
        "id": "3I_TZhNoUYHR",
        "outputId": "13714a0d-3374-4ff9-b38d-b2bfa0eede76"
      },
      "execution_count": 15,
      "outputs": [
        {
          "output_type": "stream",
          "name": "stdout",
          "text": [
            "Total Time: 0.00445\n",
            "Std Error is:0.0646\n",
            "RMSE is:2.2546\n",
            "MAE is:1.8407\n"
          ]
        }
      ]
    },
    {
      "cell_type": "markdown",
      "source": [
        "Dist Plot"
      ],
      "metadata": {
        "id": "ATUSf5pIftZE"
      }
    },
    {
      "cell_type": "code",
      "source": [
        "import seaborn as sns\n",
        "import warnings\n",
        "warnings.filterwarnings(\"ignore\")\n",
        "sns.distplot((y_test_predict.T - pred))"
      ],
      "metadata": {
        "colab": {
          "base_uri": "https://localhost:8080/",
          "height": 283
        },
        "id": "GATwF2LFFoTX",
        "outputId": "1a576bac-0d72-4177-fcab-b65b7740cb5e"
      },
      "execution_count": 16,
      "outputs": [
        {
          "output_type": "execute_result",
          "data": {
            "text/plain": [
              "<matplotlib.axes._subplots.AxesSubplot at 0x7fdb0fa6c990>"
            ]
          },
          "metadata": {},
          "execution_count": 16
        },
        {
          "output_type": "display_data",
          "data": {
            "text/plain": [
              "<Figure size 432x288 with 1 Axes>"
            ],
            "image/png": "[encoded data removed]"
          },
          "metadata": {
            "needs_background": "light"
          }
        }
      ]
    },
    {
      "cell_type": "code",
      "source": [
        "import warnings\n",
        "warnings.filterwarnings(\"ignore\")\n",
        "sns.distplot((y_test - pred))"
      ],
      "metadata": {
        "colab": {
          "base_uri": "https://localhost:8080/",
          "height": 298
        },
        "id": "6fOpgIJdF_q2",
        "outputId": "62121c58-b20c-41a1-e366-4a18d5832ea1"
      },
      "execution_count": 17,
      "outputs": [
        {
          "output_type": "execute_result",
          "data": {
            "text/plain": [
              "<matplotlib.axes._subplots.AxesSubplot at 0x7fdb0f9aac90>"
            ]
          },
          "metadata": {},
          "execution_count": 17
        },
        {
          "output_type": "display_data",
          "data": {
            "text/plain": [
              "<Figure size 432x288 with 1 Axes>"
            ],
            "image/png": "[encoded data removed]"
          },
          "metadata": {
            "needs_background": "light"
          }
        }
      ]
    },
    {
      "cell_type": "markdown",
      "source": [
        "LASSO FOR SCIKIT LEARN AND ADMM IMPLEMENTATIONS GRAPH PLOT"
      ],
      "metadata": {
        "id": "VWnbi4MTfx4B"
      }
    },
    {
      "cell_type": "code",
      "source": [
        "from matplotlib.pyplot import figure\n",
        "figure(figsize=(8, 6))\n",
        "plt.scatter(X_test,y_test , label='Y test from the data')\n",
        "plt.scatter(X_test,y_test_predict,color='orange')\n",
        "plt.plot(np.array(X_test),np.array(y_test_predict),color = 'red',label='Lasso line - ADMM')\n",
        "plt.scatter(X_test,pred,color ='green')\n",
        "plt.plot(np.array(X_test),np.array(pred),color = 'green',label='Lasso line - scikit learn')\n",
        "plt.title('LASSO using ADMM vs scikit learn lasso ')\n",
        "plt.xlabel('BMI')\n",
        "plt.ylabel('Sugar Level')\n",
        "plt.legend()\n",
        "plt.show()\n"
      ],
      "metadata": {
        "colab": {
          "base_uri": "https://localhost:8080/",
          "height": 404
        },
        "id": "M8bZN8hn7EcN",
        "outputId": "e8d97000-8d7d-4e5f-b151-0736afc48295"
      },
      "execution_count": 18,
      "outputs": [
        {
          "output_type": "display_data",
          "data": {
            "text/plain": [
              "<Figure size 576x432 with 1 Axes>"
            ],
            "image/png": "[encoded data removed]"
          },
          "metadata": {
            "needs_background": "light"
          }
        }
      ]
    },
    {
      "cell_type": "markdown",
      "source": [
        "LASSO USING ADMM vs GRADIENT DESCENT"
      ],
      "metadata": {
        "id": "MrDw2DCCM54x"
      }
    },
    {
      "cell_type": "code",
      "source": [
        "from matplotlib.pyplot import figure\n",
        "figure(figsize=(8, 6))\n",
        "plt.scatter(X_test,y_test , label='Y test from the data')\n",
        "plt.scatter(X_test,y_test_predict,color='orange')\n",
        "plt.plot(np.array(X_test),np.array(y_test_predict),color = 'red',label='Lasso line - ADMM')\n",
        "plt.scatter(X_test, y_pred_grad,color='green')\n",
        "plt.plot(np.array(X_test),np.array(y_pred_grad),color='green',label='Lasso line - Gradient descent')\n",
        "plt.title('LASSO using ADMM vs Gradient descent')\n",
        "plt.xlabel('BMI')\n",
        "plt.ylabel('Sugar Level')\n",
        "plt.legend()\n",
        "plt.show()\n"
      ],
      "metadata": {
        "colab": {
          "base_uri": "https://localhost:8080/",
          "height": 404
        },
        "id": "pClSl6IHM4OE",
        "outputId": "53605797-d62b-407f-e381-b1af5963abee"
      },
      "execution_count": 19,
      "outputs": [
        {
          "output_type": "display_data",
          "data": {
            "text/plain": [
              "<Figure size 576x432 with 1 Axes>"
            ],
            "image/png": "[encoded data removed]"
          },
          "metadata": {
            "needs_background": "light"
          }
        }
      ]
    },
    {
      "cell_type": "markdown",
      "source": [
        "Ridge using ADMM"
      ],
      "metadata": {
        "id": "Ecz1rDmcf58V"
      }
    },
    {
      "cell_type": "code",
      "source": [
        "import numpy as np\n",
        "from numpy import linalg as la\n",
        "from scipy import sparse\n",
        "from scipy import stats\n",
        "import matplotlib.pyplot as plt\n",
        "import time\n",
        "import pandas as pd\n",
        "import math\n",
        "from sklearn.model_selection import train_test_split\n",
        "import scipy.sparse as sparse\n",
        "from scipy.sparse.linalg import spsolve\n",
        "from numpy.linalg import norm,cholesky\n",
        "from sklearn.metrics import mean_squared_error,mean_absolute_error\n",
        "import time as t\n",
        "import warnings\n",
        "warnings.filterwarnings(\"ignore\")\n",
        "class History1:\n",
        "    def __init__(self):\n",
        "        self.objval = []\n",
        "        self.r_norm = []\n",
        "        self.s_norm = []\n",
        "        self.eps_pri = []\n",
        "        self.eps_dual = []\n",
        "        self.time_iter = []\n",
        "\n",
        "    def addtime_iter(self, time_iter):\n",
        "        self.time_iter.append(time_iter)\n",
        "\n",
        "    def gettime_iter(self):\n",
        "        return self.time_iter\n",
        "\n",
        "    def settime_iter(self,time_iter):\n",
        "      self.time_iter=time_iter    \n",
        "    def addObjval(self, objval):\n",
        "        self.objval.append(objval)\n",
        "\n",
        "    def getObjval(self):\n",
        "        return self.objval\n",
        "\n",
        "    def addR_norm(self, r_norm):\n",
        "        self.r_norm.append(r_norm)\n",
        "\n",
        "    def getR_norm(self):\n",
        "        return self.r_norm\n",
        "\n",
        "    def addS_norm(self, s_norm):\n",
        "        self.s_norm.append(s_norm)\n",
        "\n",
        "    def getS_norm(self):\n",
        "        return self.s_norm\n",
        "\n",
        "    def addEps_pri(self, eps_pri):\n",
        "        self.eps_pri.append(eps_pri)\n",
        "\n",
        "    def getEps_pri(self):\n",
        "        return self.eps_pri\n",
        "\n",
        "    def addEps_dual(self, eps_dual):\n",
        "        self.eps_dual.append(eps_dual)\n",
        "\n",
        "    def getEps_dual(self):\n",
        "        return self.eps_dual\n",
        "\n",
        "def objective(A, b, lamda, x, z):\n",
        "    a = np.dot(A, x) - b\n",
        "    p = 1/2*((la.norm(a, 2))**2) + lamda*(la.norm(z, 2)**2)\n",
        "    return p\n",
        "\n",
        "def factor(A, rho):\n",
        "    m, n = A.shape\n",
        "    if m >= n:\n",
        "        L = la.cholesky(np.dot(A.T, A) + rho*sparse.eye(n))\n",
        "    else:\n",
        "        L = la.cholesky(sparse.eye(m) + 1/rho*(np.dot(A, A.T)))\n",
        "\n",
        "    L = sparse.coo_matrix(L)\n",
        "    U = sparse.coo_matrix(L.T)\n",
        "\n",
        "    return L, U\n",
        "\n",
        "def Standard_error1(sample):\n",
        "    std = np.std(sample,ddof=0) #standard deviation\n",
        "    standard_error = std/math.sqrt(len(sample))\n",
        "    return standard_error\n",
        "\n",
        "\n",
        "  \n",
        "# Solves the following problem via ADMM:\n",
        "# minimize 1/2*|| Ax - b ||_2^2 + \\lambda || x ||_2\n",
        "\n",
        "def ridge(A, b, lamda, rho, alpha):\n",
        "    QUIET = False\n",
        "    MAX_ITER = 100\n",
        "    ABSTOL = 10**(-4)\n",
        "    RELTOL = 10**(-2)\n",
        "\n",
        "    m, n = A.shape\n",
        "    # save a matrix-vector multiply\n",
        "    Atb = A.T*b\n",
        "   \n",
        "    #print(Atb.shape)\n",
        "    # ADMM solver\n",
        "    x = np.zeros([n, 1])\n",
        "    z = np.zeros([n, 1])\n",
        "    u = np.zeros([n, 1])\n",
        "\n",
        "    h = {}\n",
        "    h['objval']     = np.zeros(MAX_ITER)\n",
        "    h['r_norm']     = np.zeros(MAX_ITER)\n",
        "    h['s_norm']     = np.zeros(MAX_ITER)\n",
        "    h['eps_pri']    = np.zeros(MAX_ITER)\n",
        "    h['eps_dual']   = np.zeros(MAX_ITER)\n",
        "\n",
        "\n",
        "    # cache the factorization\n",
        "    L, U = factor(A, rho)\n",
        "    #decomposing the (AT.A - rho*I) into L,U \n",
        "\n",
        "    history = History1()\n",
        "    for k in range(0, MAX_ITER):\n",
        "        # x-update\n",
        "        start_time = t.time()\n",
        "        q = Atb + rho*(z) - u  # temporary value\n",
        "        #as x - update is xk = (AT.A - rho*I)^(-1)*(AT*b+rho*z-u)\n",
        "        if m >= n:\n",
        "            x = la.solve(U.todense(), la.solve(L.todense(), q))\n",
        "        else:\n",
        "            x = q/rho - np.dot(A.T, la.solve(U.todense(), la.solve(L.todense(), np.dot(A, q))))/rho**2\n",
        "        ##print(x,z)\n",
        "        # z-update\n",
        "        zold = z\n",
        "        x_hat = x #alpha*x + (1 - alpha)*zold\n",
        "        z = (rho*x_hat + u)/(2*lamda + rho)\n",
        "        #print(z,zold,lamda)\n",
        "        #print(z)\n",
        "        # u-update\n",
        "        u = u + rho*(x_hat - z)\n",
        "        time= t.time() - start_time\n",
        "        # diagnostics, reporting, termination checks\n",
        "        history.addObjval(objective(A, b, lamda, x, z))\n",
        "        h['objval'][k] = objective(A, b, lamda, x, z)\n",
        "        history.addR_norm(la.norm(x - z))\n",
        "        h['r_norm'][k]   = norm(x-z)\n",
        "        history.addS_norm(la.norm(-rho*(z-zold)))\n",
        "        h['s_norm'][k]   = norm(-rho*(z-zold))\n",
        "        history.addEps_pri(np.sqrt(n)*ABSTOL + RELTOL*np.maximum(la.norm(x), la.norm(-z)))\n",
        "        h['eps_pri'][k]  = np.sqrt(n)*ABSTOL+ RELTOL*np.maximum(norm(x),norm(-z))\n",
        "        history.addEps_dual(np.sqrt(n)*ABSTOL + RELTOL*la.norm(rho*u))\n",
        "        h['eps_dual'][k] = np.sqrt(n)*ABSTOL+ RELTOL*norm(rho*u)\n",
        "        history.addtime_iter(time)\n",
        "\n",
        "\n",
        "        if history.getR_norm()[k] < history.getEps_pri()[k] and history.getS_norm()[k]<history.getEps_dual()[k]:\n",
        "            break\n",
        "    time = list(history.gettime_iter())\n",
        "    time_iter = time.copy()\n",
        "    time_iter.sort(reverse=True)\n",
        "    history.settime_iter(time_iter)\n",
        "    return x.ravel(), history ,h        \n",
        "#\n",
        "factors = [\n",
        " \n",
        " 'BMI'\n",
        " ]\n",
        "\n",
        "A1 = (final_Dataset [factors])\n",
        "b1 = (final_Dataset['Sugar_Level'])\n",
        "\n",
        "A1 = np.matrix(A1)\n",
        "b1 = np.matrix(b1).T\n",
        "X_train1, X_test1, y_train1, y_test1 = train_test_split(A1, b1,test_size=0.2, random_state=1)\n",
        "print(X_train1.shape)\n",
        "lambda_max1 = la.norm(np.dot(X_train1.T, y_train1), np.inf)\n",
        "lamda1 = 0.000001*lambda_max1\n",
        "# Solve problem\n",
        "x1, history1 ,h1 = ridge(X_train1, y_train1, lamda1, 1.0, 1.0)\n",
        "\n",
        "y_test_predict1=X_test1.dot(x1[0].T)\n",
        "\n",
        "print('%3s' % 'iter', '%10s' % 'r norm', '%10s' % 'eps pri', '%10s' % 's norm', '%10s' % 'eps dual', '%10s' % 'objective','%8s' % 'time')\n",
        "for k in range(len(history1.getObjval())):\n",
        "  print('%3d' % k, '%10.4f' % history1.getR_norm()[k], '%10.4f' % history1.getEps_pri()[k], '%10.4f' % history1.getS_norm()[k],\n",
        "                  '%10.4f' % history1.getEps_dual()[k], '%10.2f' % history1.getObjval()[k],'%11.6f' % history1.gettime_iter()[k])\n",
        "\n",
        "coef = []\n",
        "for i in range(len(factors)):\n",
        "    coef.append((factors[i],round(float(x1.T[i][0]),4)))\n",
        "  \n",
        "# Reporting\n",
        "K = len(history1.gettime_iter())\n",
        "x1 = np.arange(K)\n",
        "plt.plot(x1, history1.gettime_iter())\n",
        "plt.xlabel('iter (k)')\n",
        "plt.ylabel('time for each iteration')\n",
        "plt.show()\n",
        "\n",
        "plt.plot(x1, history1.getObjval())\n",
        "plt.xlabel('iter (k)')\n",
        "plt.ylabel('f(x^k) + g(z^k)')\n",
        "plt.show()\n",
        "\n",
        "plt.subplot(211)\n",
        "plt.plot(x1, np.maximum(10**(-8), history1.getR_norm()), '-', history1.getEps_pri(), '--')\n",
        "plt.ylabel('||r||_2')\n",
        "\n",
        "plt.subplot(212)\n",
        "plt.plot(x1, np.maximum(10**(-8), history1.getS_norm()), '-', history1.getEps_dual(), '--')\n",
        "plt.xlabel('iter (k)')\n",
        "plt.ylabel('||s||_2')\n",
        "plt.show()\n",
        "\n",
        "# model evaluation (MSE,MAE,std_error)\n",
        "rmse_predict = round(np.sqrt(mean_squared_error(y_test1,y_test_predict1)),4)\n",
        "mae_predict = round(mean_absolute_error(y_test1,y_test_predict1),4)\n",
        "std_error = round(float(Standard_error1(y_test_predict1)),4)\n",
        "\n",
        "print ('Estimated coefficients are:'+str(coef))\n",
        "print ('Std Error is:'+str(std_error))\n",
        "print ('RMSE is:'+str(rmse_predict))\n",
        "print ('MAE is:'+str(mae_predict))"
      ],
      "metadata": {
        "colab": {
          "base_uri": "https://localhost:8080/",
          "height": 1000
        },
        "id": "RkNNVn-mQN97",
        "outputId": "2b690770-a2d9-4145-b87c-cf6ee41caaaa"
      },
      "execution_count": 20,
      "outputs": [
        {
          "output_type": "stream",
          "name": "stdout",
          "text": [
            "(800, 1)\n",
            "iter     r norm    eps pri     s norm   eps dual  objective     time\n",
            "  0     0.0789     0.0029     0.1976     0.0009    2222.26    0.000142\n",
            "  1     0.0225     0.0029     0.0564     0.0011    2222.26    0.000101\n",
            "  2     0.0064     0.0029     0.0161     0.0012    2222.26    0.000098\n",
            "  3     0.0018     0.0029     0.0046     0.0012    2222.27    0.000098\n",
            "  4     0.0005     0.0029     0.0013     0.0012    2222.27    0.000089\n",
            "  5     0.0001     0.0029     0.0004     0.0012    2222.27    0.000085\n"
          ]
        },
        {
          "output_type": "display_data",
          "data": {
            "text/plain": [
              "<Figure size 432x288 with 1 Axes>"
            ],
            "image/png": "[encoded data removed]"
          },
          "metadata": {
            "needs_background": "light"
          }
        },
        {
          "output_type": "display_data",
          "data": {
            "text/plain": [
              "<Figure size 432x288 with 1 Axes>"
            ],
            "image/png": "[encoded data removed]"
          },
          "metadata": {
            "needs_background": "light"
          }
        },
        {
          "output_type": "display_data",
          "data": {
            "text/plain": [
              "<Figure size 432x288 with 2 Axes>"
            ],
            "image/png": "[encoded data removed]"
          },
          "metadata": {
            "needs_background": "light"
          }
        },
        {
          "output_type": "stream",
          "name": "stdout",
          "text": [
            "Estimated coefficients are:[('BMI', 0.2765)]\n",
            "Std Error is:0.0947\n",
            "RMSE is:2.2249\n",
            "MAE is:1.7889\n"
          ]
        }
      ]
    },
    {
      "cell_type": "code",
      "source": [
        "run_time = 0\n",
        "for k in range(len(history1.getObjval())):\n",
        "  run_time += history1.gettime_iter()[k]\n",
        "print(round(run_time,5))"
      ],
      "metadata": {
        "colab": {
          "base_uri": "https://localhost:8080/"
        },
        "id": "fVq5OgjSZ-EL",
        "outputId": "e515002f-6aed-4491-ec14-000bc4f03f90"
      },
      "execution_count": 21,
      "outputs": [
        {
          "output_type": "stream",
          "name": "stdout",
          "text": [
            "0.00061\n"
          ]
        }
      ]
    },
    {
      "cell_type": "markdown",
      "source": [
        "GRADIENT DESCENT RIDGE"
      ],
      "metadata": {
        "id": "5i-cQvOlNpWG"
      }
    },
    {
      "cell_type": "code",
      "source": [
        "import numpy as np\n",
        "import pandas as pd\n",
        "from sklearn.model_selection import train_test_split\n",
        "import matplotlib.pyplot as plt\n",
        "import time as t\n",
        "# Ridge Regression\n",
        "  \n",
        "class RidgeRegression() :\n",
        "      \n",
        "    def __init__( self, learning_rate, iterations, l2_penality ) :\n",
        "          \n",
        "        self.learning_rate = learning_rate        \n",
        "        self.iterations = iterations        \n",
        "        self.l2_penality = l2_penality\n",
        "        self.timeiter = [] \n",
        "        self.objvals = []\n",
        "    # Function for model training            \n",
        "    def fit( self, X, Y ) :\n",
        "          \n",
        "        # no_of_training_examples, no_of_features        \n",
        "        self.m, self.n = X.shape\n",
        "          \n",
        "        # weight initialization        \n",
        "        self.W = np.zeros( self.n )\n",
        "          \n",
        "        self.b = 0        \n",
        "        self.X = X        \n",
        "        self.Y = Y\n",
        "          \n",
        "        # gradient descent learning\n",
        "                  \n",
        "        for i in range( self.iterations ) :\n",
        "            Y_pred = self.predict( self.X )\n",
        "            hh = self.objval(Y,Y_pred,X)\n",
        "            \n",
        "            start = t.time()            \n",
        "            self.update_weights()\n",
        "            end = t.time() - start\n",
        "            self.timeiter.append(end)\n",
        "            Y_pred = self.predict( self.X )\n",
        "            hj = self.objval(Y,Y_pred,X)\n",
        "            self.objvals.append(hh)\n",
        "            if(abs(hh-hj)<=0.0001e-05):\n",
        "              break\n",
        "\n",
        "        time_g1 = (self.timeiter)\n",
        "        time_iterg1 = time_g1.copy()\n",
        "        time_iterg1.sort(reverse=True)\n",
        "        self.timeiter = time_iterg1\n",
        "        return self\n",
        "      \n",
        "    # Helper function to update weights in gradient descent\n",
        "      \n",
        "    def update_weights( self ) :           \n",
        "        Y_pred = self.predict( self.X )\n",
        "          \n",
        "        # calculate gradients      \n",
        "        dW = ( - ( 2 * ( self.X.T ).dot( self.Y - Y_pred ) ) +               \n",
        "               ( 2 * self.l2_penality * self.W ) ) / self.m     \n",
        "        db = - 2 * np.sum( self.Y - Y_pred ) / self.m \n",
        "          \n",
        "        # update weights    \n",
        "        self.W = self.W - self.learning_rate * dW    \n",
        "        self.b = self.b - self.learning_rate * db        \n",
        "        return self\n",
        "      \n",
        "    # Hypothetical function  h( x ) \n",
        "    def predict( self, X ) :    \n",
        "        return X.dot( self.W ) + self.b\n",
        "    \n",
        "    def objval(self ,Y,pred,X):\n",
        "      h_1 = sum( (Y - pred )**2)\n",
        "      h_2 = la.norm( self.W,2 )**2\n",
        "      h_3 = self.l2_penality*h_2\n",
        "      h = h_3/self.m\n",
        "      return h\n",
        "\n",
        "\n",
        "Aaa = (final_Dataset[factors].iloc[::].values)\n",
        "baa = (final_Dataset['Sugar_Level'].iloc[::].values)\n",
        "\n",
        "\n",
        "X_train, X_test, y_train, y_test = train_test_split(Aaa, baa,test_size=0.2, random_state=3)\n",
        "\n",
        "model = RidgeRegression(iterations = 100, learning_rate = 0.001, l2_penality = 1 )\n",
        "model.fit(X_train,y_train)\n",
        "\n",
        "Y_pred = model.predict(X_test)\n",
        "\n",
        "K = len(model.timeiter)\n",
        "x_vals1 = np.arange(K)\n",
        "plt.plot(x_vals1, model.timeiter)\n",
        "plt.xlabel('iter (k)')\n",
        "plt.ylabel('time for each iteration')\n",
        "plt.show()\n",
        "plt.plot(x_vals1, model.objvals)\n",
        "plt.xlabel('iter (k)')\n",
        "plt.ylabel('objvals')\n",
        "plt.show()\n",
        "\n",
        "# model evaluation (MSE,MAE,std_error)\n",
        "rmse_predict = round(np.sqrt(mean_squared_error(y_test,Y_pred)),4)\n",
        "mae_predict = round(mean_absolute_error(y_test,Y_pred),4)\n",
        "std_error = round(float(Standard_error1(Y_pred)),4)\n",
        "\n",
        "print ('Std Error is:'+str(std_error))\n",
        "print ('RMSE is:'+str(rmse_predict))\n",
        "print ('MAE is:'+str(mae_predict))\n",
        "\n",
        "\n",
        "  \n"
      ],
      "metadata": {
        "colab": {
          "base_uri": "https://localhost:8080/",
          "height": 595
        },
        "id": "AX4k64i0ngeF",
        "outputId": "32e848a3-0ed7-4653-ba48-6c22f52cc64a"
      },
      "execution_count": 22,
      "outputs": [
        {
          "output_type": "display_data",
          "data": {
            "text/plain": [
              "<Figure size 432x288 with 1 Axes>"
            ],
            "image/png": "[encoded data removed]"
          },
          "metadata": {
            "needs_background": "light"
          }
        },
        {
          "output_type": "display_data",
          "data": {
            "text/plain": [
              "<Figure size 432x288 with 1 Axes>"
            ],
            "image/png": "[encoded data removed]"
          },
          "metadata": {
            "needs_background": "light"
          }
        },
        {
          "output_type": "stream",
          "name": "stdout",
          "text": [
            "Std Error is:0.0959\n",
            "RMSE is:2.4975\n",
            "MAE is:2.0105\n"
          ]
        }
      ]
    },
    {
      "cell_type": "code",
      "source": [
        "runtime = 0\n",
        "for k in range(len(model.timeiter)):\n",
        "  runtime += model.timeiter[k]\n",
        "print(round(runtime,5))"
      ],
      "metadata": {
        "colab": {
          "base_uri": "https://localhost:8080/"
        },
        "id": "m_44kqyPtI9p",
        "outputId": "8bc066ce-d1b2-4c8b-fd9e-9ba9aaeb0b98"
      },
      "execution_count": 23,
      "outputs": [
        {
          "output_type": "stream",
          "name": "stdout",
          "text": [
            "0.00218\n"
          ]
        }
      ]
    },
    {
      "cell_type": "markdown",
      "source": [
        "SCIKIT LEARN MODEL FOR Ridge"
      ],
      "metadata": {
        "id": "IzjcnXUBf_u7"
      }
    },
    {
      "cell_type": "code",
      "source": [
        "from sklearn import linear_model\n",
        "\n",
        "clf = linear_model.Ridge(alpha=0.1)\n",
        "sk_t1= t.time() \n",
        "clf.fit(X_train1,y_train1)\n",
        "sk_t1 = t.time() - sk_t1\n",
        "pred1 = clf.predict(X_test1)\n"
      ],
      "metadata": {
        "id": "1GoYUQ9TGx8j"
      },
      "execution_count": 24,
      "outputs": []
    },
    {
      "cell_type": "code",
      "source": [
        "rmse_predict = round(np.sqrt(mean_squared_error(y_test1,pred1)),4)\n",
        "mae_predict = round(mean_absolute_error(y_test1,pred1),4)\n",
        "std_error = round(float(Standard_error1(pred1)),4)\n",
        "print('Total Time:',round(sk_t1,5))\n",
        "print ('Std Error is:'+str(std_error))\n",
        "print ('RMSE is:'+str(rmse_predict))\n",
        "print ('MAE is:'+str(mae_predict))"
      ],
      "metadata": {
        "colab": {
          "base_uri": "https://localhost:8080/"
        },
        "id": "LlYopNC2Xdk8",
        "outputId": "888c8746-6f1e-4c14-9124-20534a1859e2"
      },
      "execution_count": 25,
      "outputs": [
        {
          "output_type": "stream",
          "name": "stdout",
          "text": [
            "Total Time: 0.00502\n",
            "Std Error is:0.0673\n",
            "RMSE is:2.248\n",
            "MAE is:1.834\n"
          ]
        }
      ]
    },
    {
      "cell_type": "markdown",
      "source": [
        "DIST Plot for Ridge"
      ],
      "metadata": {
        "id": "owuRVGVMgE-w"
      }
    },
    {
      "cell_type": "code",
      "source": [
        "import seaborn as sns\n",
        "import warnings\n",
        "warnings.filterwarnings(\"ignore\")\n",
        "sns.distplot((y_test_predict1.T - pred1))"
      ],
      "metadata": {
        "colab": {
          "base_uri": "https://localhost:8080/",
          "height": 283
        },
        "id": "b28xMEyHWZz7",
        "outputId": "f749ad11-f00a-4b9a-fe2d-41f4b53b181b"
      },
      "execution_count": 26,
      "outputs": [
        {
          "output_type": "execute_result",
          "data": {
            "text/plain": [
              "<matplotlib.axes._subplots.AxesSubplot at 0x7fdb0f7cc8d0>"
            ]
          },
          "metadata": {},
          "execution_count": 26
        },
        {
          "output_type": "display_data",
          "data": {
            "text/plain": [
              "<Figure size 432x288 with 1 Axes>"
            ],
            "image/png": "[encoded data removed]"
          },
          "metadata": {
            "needs_background": "light"
          }
        }
      ]
    },
    {
      "cell_type": "code",
      "source": [
        "import warnings\n",
        "warnings.filterwarnings(\"ignore\")\n",
        "sns.distplot((y_test1 - pred1))"
      ],
      "metadata": {
        "colab": {
          "base_uri": "https://localhost:8080/",
          "height": 283
        },
        "id": "NBpsQXgUWfzq",
        "outputId": "e643dfac-9a91-4fed-9ca7-e00d7750703c"
      },
      "execution_count": 27,
      "outputs": [
        {
          "output_type": "execute_result",
          "data": {
            "text/plain": [
              "<matplotlib.axes._subplots.AxesSubplot at 0x7fdb0f810190>"
            ]
          },
          "metadata": {},
          "execution_count": 27
        },
        {
          "output_type": "display_data",
          "data": {
            "text/plain": [
              "<Figure size 432x288 with 1 Axes>"
            ],
            "image/png": "[encoded data removed]"
          },
          "metadata": {
            "needs_background": "light"
          }
        }
      ]
    },
    {
      "cell_type": "markdown",
      "source": [
        "Ridge For SCIKIT LEARN AND ADMM IMPLEMENTATIONS GRAPH PLOT"
      ],
      "metadata": {
        "id": "sStc55jpgJEH"
      }
    },
    {
      "cell_type": "code",
      "source": [
        "from matplotlib.pyplot import figure\n",
        "figure(figsize=(8, 6))\n",
        "plt.scatter(np.array(X_test1),np.array(y_test1) , label='Y test from the data')\n",
        "plt.plot(np.array(X_test1),np.array(y_test_predict1),color = 'red',label='Ridge line - ADMM')\n",
        "plt.scatter(np.array(X_test1),np.array(y_test_predict1))\n",
        "plt.scatter(np.array(X_test1),np.array(pred1))\n",
        "plt.plot(np.array(X_test1),np.array(pred1),color = 'green',label='Ridge line - scikit learn')\n",
        "plt.title('Ridge using ADMM vs scikit learn ridge ')\n",
        "plt.xlabel('BMI')\n",
        "plt.ylabel('Sugar Level')\n",
        "plt.legend()\n",
        "plt.show()"
      ],
      "metadata": {
        "colab": {
          "base_uri": "https://localhost:8080/",
          "height": 404
        },
        "id": "VEs9WuJpofxM",
        "outputId": "327e91d9-1daa-4941-ceb2-e4e60e9056d4"
      },
      "execution_count": 28,
      "outputs": [
        {
          "output_type": "display_data",
          "data": {
            "text/plain": [
              "<Figure size 576x432 with 1 Axes>"
            ],
            "image/png": "[encoded data removed]"
          },
          "metadata": {
            "needs_background": "light"
          }
        }
      ]
    },
    {
      "cell_type": "code",
      "source": [
        "from matplotlib.pyplot import figure\n",
        "figure(figsize=(8, 6))\n",
        "plt.scatter(np.array(X_test1),np.array(y_test1) , label='Y test from the data')\n",
        "plt.scatter(np.array(X_test1),np.array(y_test_predict1),color='orange')\n",
        "plt.plot(np.array(X_test1),np.array(y_test_predict1),color = 'red',label='Ridge line - ADMM')\n",
        "plt.scatter( X_test, Y_pred, color = 'green' )\n",
        "plt.plot(np.array(X_test),np.array(Y_pred), color = 'green' ,label = 'Ridge line - Gradient descent')\n",
        "plt.title('Ridge using ADMM vs Gradient descent')\n",
        "plt.xlabel('BMI')\n",
        "plt.ylabel('Sugar Level')\n",
        "plt.legend()\n",
        "plt.show()"
      ],
      "metadata": {
        "colab": {
          "base_uri": "https://localhost:8080/",
          "height": 404
        },
        "id": "Cuxi0l0HHIz-",
        "outputId": "19a74865-b79c-4b3e-a50b-37135b7d1601"
      },
      "execution_count": 29,
      "outputs": [
        {
          "output_type": "display_data",
          "data": {
            "text/plain": [
              "<Figure size 576x432 with 1 Axes>"
            ],
            "image/png": "[encoded data removed]"
          },
          "metadata": {
            "needs_background": "light"
          }
        }
      ]
    }
  ]
}